{
  "nbformat": 4,
  "nbformat_minor": 0,
  "metadata": {
    "colab": {
      "name": "WordEmbedding_keras.ipynb",
      "provenance": [],
      "authorship_tag": "ABX9TyMuS7vmOW/CSfohdeKVWzVs",
      "include_colab_link": true
    },
    "kernelspec": {
      "name": "python3",
      "display_name": "Python 3"
    },
    "accelerator": "TPU"
  },
  "cells": [
    {
      "cell_type": "markdown",
      "metadata": {
        "id": "view-in-github",
        "colab_type": "text"
      },
      "source": [
        "<a href=\"https://colab.research.google.com/github/Clemenciah/Personal-Learning/blob/master/WordEmbedding_keras.ipynb\" target=\"_parent\"><img src=\"https://colab.research.google.com/assets/colab-badge.svg\" alt=\"Open In Colab\"/></a>"
      ]
    },
    {
      "cell_type": "code",
      "metadata": {
        "id": "bC4D1ufJkGQP",
        "colab_type": "code",
        "colab": {}
      },
      "source": [
        "#!pip install tensorflow==2.0.0-beta0"
      ],
      "execution_count": 0,
      "outputs": []
    },
    {
      "cell_type": "code",
      "metadata": {
        "id": "vR_tO783F8MF",
        "colab_type": "code",
        "colab": {
          "base_uri": "https://localhost:8080/",
          "height": 121
        },
        "outputId": "3f212a9d-8c7c-4476-e320-35faa9cf642b"
      },
      "source": [
        "!pip install tensorflow==1.0.0"
      ],
      "execution_count": 2,
      "outputs": [
        {
          "output_type": "stream",
          "text": [
            "Requirement already satisfied: tensorflow==1.0.0 in /usr/local/lib/python3.6/dist-packages (1.0.0)\n",
            "Requirement already satisfied: wheel>=0.26 in /usr/local/lib/python3.6/dist-packages (from tensorflow==1.0.0) (0.34.2)\n",
            "Requirement already satisfied: protobuf>=3.1.0 in /usr/local/lib/python3.6/dist-packages (from tensorflow==1.0.0) (3.10.0)\n",
            "Requirement already satisfied: six>=1.10.0 in /usr/local/lib/python3.6/dist-packages (from tensorflow==1.0.0) (1.12.0)\n",
            "Requirement already satisfied: numpy>=1.11.0 in /usr/local/lib/python3.6/dist-packages (from tensorflow==1.0.0) (1.17.5)\n",
            "Requirement already satisfied: setuptools in /usr/local/lib/python3.6/dist-packages (from protobuf>=3.1.0->tensorflow==1.0.0) (45.1.0)\n"
          ],
          "name": "stdout"
        }
      ]
    },
    {
      "cell_type": "markdown",
      "metadata": {
        "id": "IBUjqfJvmoU2",
        "colab_type": "text"
      },
      "source": [
        "### Custom Word Embeddings"
      ]
    },
    {
      "cell_type": "markdown",
      "metadata": {
        "id": "VJLGqHrjm8i5",
        "colab_type": "text"
      },
      "source": [
        "Keras Embeding Layer is used to learn custom word embeddings.\n",
        "We will perform simple text classification tasks that will use word embeddings. Here we learn word embedding which we use for text classification"
      ]
    },
    {
      "cell_type": "code",
      "metadata": {
        "id": "O9fTXReZegoH",
        "colab_type": "code",
        "colab": {}
      },
      "source": [
        "import numpy\n",
        "import tensorflow as tf\n",
        "#from tensorflow.keras import datasets, layers, models#\n",
        "from numpy import array\n",
        "from keras.preprocessing.text import one_hot\n",
        "from keras.preprocessing.sequence import pad_sequences\n",
        "from keras.models import Sequential\n",
        "from keras.layers import Dense\n",
        "from keras.layers import Flatten\n",
        "from keras.layers.embeddings import Embedding"
      ],
      "execution_count": 0,
      "outputs": []
    },
    {
      "cell_type": "code",
      "metadata": {
        "id": "Je74sr2hHqGx",
        "colab_type": "code",
        "colab": {}
      },
      "source": [
        "from keras import layers"
      ],
      "execution_count": 0,
      "outputs": []
    },
    {
      "cell_type": "markdown",
      "metadata": {
        "id": "PYp0O6w8nQti",
        "colab_type": "text"
      },
      "source": [
        "Define our dataset. We'll use a custom dataset containing movie reviews"
      ]
    },
    {
      "cell_type": "code",
      "metadata": {
        "id": "FGiJYMACffbF",
        "colab_type": "code",
        "colab": {}
      },
      "source": [
        "corpus = [\n",
        "    # Positive Reviews\n",
        "\n",
        "    'This is an excellent movie',\n",
        "    'The move was fantastic I like it',\n",
        "    'You should watch it is brilliant',\n",
        "    'Exceptionally good',\n",
        "    'Wonderfully directed and executed I like it',\n",
        "    'Its a fantastic series',\n",
        "    'Never watched such a brillent movie',\n",
        "    'It is a Wonderful movie',\n",
        "\n",
        "    # Negtive Reviews\n",
        "\n",
        "    \"horrible acting\",\n",
        "    'waste of money',\n",
        "    'pathetic picture',\n",
        "    'It was very boring',\n",
        "    'I did not like the movie',\n",
        "    'The movie was horrible',\n",
        "    'I will not recommend',\n",
        "    'The acting is pathetic'\n",
        "]"
      ],
      "execution_count": 0,
      "outputs": []
    },
    {
      "cell_type": "markdown",
      "metadata": {
        "id": "tCSt-hz_nfZe",
        "colab_type": "text"
      },
      "source": [
        "The corpus has 8 positive reviews and 8 negative reviews. Next we create a label set for our data"
      ]
    },
    {
      "cell_type": "code",
      "metadata": {
        "id": "WFIQlU-_mL_a",
        "colab_type": "code",
        "colab": {}
      },
      "source": [
        "sentiments = array([1,1,1,1,1,1,1,1,0,0,0,0,0,0,0,0])"
      ],
      "execution_count": 0,
      "outputs": []
    },
    {
      "cell_type": "markdown",
      "metadata": {
        "id": "b9ifR-BUn3sm",
        "colab_type": "text"
      },
      "source": [
        "The first parameter to the Embedding() layer is the vocabulary, or number of unique words in the corpus. Let's first find the total number of words in our corpus:"
      ]
    },
    {
      "cell_type": "code",
      "metadata": {
        "id": "FRePU9Dsom34",
        "colab_type": "code",
        "colab": {
          "base_uri": "https://localhost:8080/",
          "height": 69
        },
        "outputId": "66479bdc-4c5f-4f79-bb76-e6a3624b3cc6"
      },
      "source": [
        "import nltk\n",
        "nltk.download('punkt')"
      ],
      "execution_count": 9,
      "outputs": [
        {
          "output_type": "stream",
          "text": [
            "[nltk_data] Downloading package punkt to /root/nltk_data...\n",
            "[nltk_data]   Unzipping tokenizers/punkt.zip.\n"
          ],
          "name": "stdout"
        },
        {
          "output_type": "execute_result",
          "data": {
            "text/plain": [
              "True"
            ]
          },
          "metadata": {
            "tags": []
          },
          "execution_count": 9
        }
      ]
    },
    {
      "cell_type": "code",
      "metadata": {
        "id": "nStCgrq0miSP",
        "colab_type": "code",
        "colab": {}
      },
      "source": [
        "from nltk.tokenize import word_tokenize\n",
        "\n",
        "all_words = []\n",
        "for sentence in corpus:\n",
        "  tokenize_word = word_tokenize(sentence)\n",
        "  for word in tokenize_word:\n",
        "    all_words.append(word)"
      ],
      "execution_count": 0,
      "outputs": []
    },
    {
      "cell_type": "code",
      "metadata": {
        "id": "shhaW0PRohOv",
        "colab_type": "code",
        "colab": {
          "base_uri": "https://localhost:8080/",
          "height": 35
        },
        "outputId": "d5d7833b-2e33-4d14-ff0d-d94c79446bb2"
      },
      "source": [
        "\n",
        "len(all_words)"
      ],
      "execution_count": 26,
      "outputs": [
        {
          "output_type": "execute_result",
          "data": {
            "text/plain": [
              "71"
            ]
          },
          "metadata": {
            "tags": []
          },
          "execution_count": 26
        }
      ]
    },
    {
      "cell_type": "markdown",
      "metadata": {
        "id": "UGKv8c0NpJ7T",
        "colab_type": "text"
      },
      "source": [
        "We simply iterate through each sentence in our corpus and then tokenize the sentence into words. Next, we iterate through the list of all the words and append the words into the all_words list. "
      ]
    },
    {
      "cell_type": "markdown",
      "metadata": {
        "id": "FsI5ZLVBpbiC",
        "colab_type": "text"
      },
      "source": [
        "all_words list above contains all words including duplicates. We will retrieve unique words from the list by passing the list into a set function."
      ]
    },
    {
      "cell_type": "code",
      "metadata": {
        "id": "a6awgIv4pBwA",
        "colab_type": "code",
        "colab": {
          "base_uri": "https://localhost:8080/",
          "height": 35
        },
        "outputId": "baad8716-37eb-4b29-b67f-eeac2774bb76"
      },
      "source": [
        "unique_words = set(all_words)\n",
        "len(unique_words)"
      ],
      "execution_count": 27,
      "outputs": [
        {
          "output_type": "execute_result",
          "data": {
            "text/plain": [
              "45"
            ]
          },
          "metadata": {
            "tags": []
          },
          "execution_count": 27
        }
      ]
    },
    {
      "cell_type": "markdown",
      "metadata": {
        "id": "1ComlyuCqMi2",
        "colab_type": "text"
      },
      "source": [
        "We will add a buffer of 5 to our vocabulary size and will set the value of vocab_length to 50."
      ]
    },
    {
      "cell_type": "markdown",
      "metadata": {
        "id": "vh4pSxuRqTWR",
        "colab_type": "text"
      },
      "source": [
        "The Embedding layer expects the words to be in numeric form. Therefore, we need to convert the sentences in our corpus to numbers. One way to convert text to numbers is by using the one_hot function from the keras.preprocessing.text library. The function takes sentence and the total length of the vocabulary and returns the sentence in numeric form."
      ]
    },
    {
      "cell_type": "code",
      "metadata": {
        "id": "r_kZ0PD7p_2v",
        "colab_type": "code",
        "colab": {
          "base_uri": "https://localhost:8080/",
          "height": 294
        },
        "outputId": "64e4922b-3cee-482a-b9da-34e893508d06"
      },
      "source": [
        "vocab_length = 50\n",
        "\n",
        "embedded_sentences = [one_hot(sentence,vocab_length) for sentence in corpus ]\n",
        "embedded_sentences"
      ],
      "execution_count": 28,
      "outputs": [
        {
          "output_type": "execute_result",
          "data": {
            "text/plain": [
              "[[1, 28, 27, 20, 27],\n",
              " [40, 41, 48, 49, 42, 40, 23],\n",
              " [29, 13, 32, 23, 28, 14],\n",
              " [32, 36],\n",
              " [31, 5, 7, 4, 42, 40, 23],\n",
              " [7, 43, 49, 32],\n",
              " [30, 47, 24, 43, 42, 27],\n",
              " [23, 28, 43, 45, 27],\n",
              " [9, 42],\n",
              " [19, 35, 14],\n",
              " [26, 6],\n",
              " [23, 48, 18, 10],\n",
              " [42, 43, 30, 40, 40, 27],\n",
              " [40, 27, 48, 9],\n",
              " [42, 40, 30, 22],\n",
              " [40, 42, 28, 26]]"
            ]
          },
          "metadata": {
            "tags": []
          },
          "execution_count": 28
        }
      ]
    },
    {
      "cell_type": "markdown",
      "metadata": {
        "id": "1mffkp92sRL-",
        "colab_type": "text"
      },
      "source": [
        "You can see that our first sentence contained five words, therefore we have five integers in the first list item"
      ]
    },
    {
      "cell_type": "markdown",
      "metadata": {
        "id": "n3HOY88xsUlk",
        "colab_type": "text"
      },
      "source": [
        "The embedding layer expects sentences to be of equal size. However, our encoded sentences are of different sizes. One way to make all the sentences of uniform size is to increase the lenght of all the sentences and make it equal to the length of the largest sentence. Let's first find the largest sentence in our corpus and then we will increase the length of all the sentences to the length of the largest sentence."
      ]
    },
    {
      "cell_type": "code",
      "metadata": {
        "id": "gG9sSIkJq7Ae",
        "colab_type": "code",
        "colab": {
          "base_uri": "https://localhost:8080/",
          "height": 35
        },
        "outputId": "38da4385-7eca-446d-e45d-a762720e8538"
      },
      "source": [
        "word_count = lambda sentence: len(word_tokenize(sentence))\n",
        "longest_sentence = max(corpus, key=word_count)\n",
        "length_long_sentence = len(word_tokenize(longest_sentence))\n",
        "length_long_sentence"
      ],
      "execution_count": 29,
      "outputs": [
        {
          "output_type": "execute_result",
          "data": {
            "text/plain": [
              "7"
            ]
          },
          "metadata": {
            "tags": []
          },
          "execution_count": 29
        }
      ]
    },
    {
      "cell_type": "markdown",
      "metadata": {
        "id": "5iDuriL_uZNL",
        "colab_type": "text"
      },
      "source": [
        "Lambda functions are unanonymous functions. They operate normally like other functions. e.g \n",
        "\n",
        "```\n",
        "# remainder = lambda num: num % 2\n",
        "\n",
        "print(remainder(5))\n",
        "```\n",
        "\n"
      ]
    },
    {
      "cell_type": "markdown",
      "metadata": {
        "id": "9pn2rcnNvFRu",
        "colab_type": "text"
      },
      "source": [
        "We use a lambda expression to find the length of all the sentences. We then use the max function to return the longest sentence. Finally the longest sentence is tokenized into words and the number of words are counted using the len function."
      ]
    },
    {
      "cell_type": "markdown",
      "metadata": {
        "id": "c61-DrY3vglL",
        "colab_type": "text"
      },
      "source": [
        "Next to make all the sentences of equal size, we will add zeros to the empty indexes that will be created as a result of increasing the sentence length. To append the zeros at the end of the sentencses, we can use the pad_sequences method. The first parameter is the list of encoded sentences of unequal sizes, the second parameter is the size of the longest sentence or the padding index, while the last parameter is padding where you specify post to add padding at the end of sentences."
      ]
    },
    {
      "cell_type": "code",
      "metadata": {
        "id": "DSHYDZAotz0P",
        "colab_type": "code",
        "colab": {
          "base_uri": "https://localhost:8080/",
          "height": 294
        },
        "outputId": "14b1f54c-476e-4788-b27b-48defb830af4"
      },
      "source": [
        "padded_sentence = pad_sequences(embedded_sentences, length_long_sentence, padding='post')\n",
        "padded_sentence"
      ],
      "execution_count": 30,
      "outputs": [
        {
          "output_type": "execute_result",
          "data": {
            "text/plain": [
              "array([[ 1, 28, 27, 20, 27,  0,  0],\n",
              "       [40, 41, 48, 49, 42, 40, 23],\n",
              "       [29, 13, 32, 23, 28, 14,  0],\n",
              "       [32, 36,  0,  0,  0,  0,  0],\n",
              "       [31,  5,  7,  4, 42, 40, 23],\n",
              "       [ 7, 43, 49, 32,  0,  0,  0],\n",
              "       [30, 47, 24, 43, 42, 27,  0],\n",
              "       [23, 28, 43, 45, 27,  0,  0],\n",
              "       [ 9, 42,  0,  0,  0,  0,  0],\n",
              "       [19, 35, 14,  0,  0,  0,  0],\n",
              "       [26,  6,  0,  0,  0,  0,  0],\n",
              "       [23, 48, 18, 10,  0,  0,  0],\n",
              "       [42, 43, 30, 40, 40, 27,  0],\n",
              "       [40, 27, 48,  9,  0,  0,  0],\n",
              "       [42, 40, 30, 22,  0,  0,  0],\n",
              "       [40, 42, 28, 26,  0,  0,  0]], dtype=int32)"
            ]
          },
          "metadata": {
            "tags": []
          },
          "execution_count": 30
        }
      ]
    },
    {
      "cell_type": "markdown",
      "metadata": {
        "id": "jVWPpWh3wBhk",
        "colab_type": "text"
      },
      "source": [
        "Now all sentences are the same length. We will create a sentiment classification model using word embeddings. The model will have an embedding layer and no hidden layers"
      ]
    },
    {
      "cell_type": "code",
      "metadata": {
        "id": "21KdhjMlv539",
        "colab_type": "code",
        "colab": {}
      },
      "source": [
        "model =  Sequential()\n",
        "model.add(Embedding(vocab_length, 20, input_length=length_long_sentence))\n",
        "model.add(Flatten())\n",
        "model.add(Dense(1, activation='sigmoid'))"
      ],
      "execution_count": 0,
      "outputs": []
    },
    {
      "cell_type": "markdown",
      "metadata": {
        "id": "lmZtp2shIp5O",
        "colab_type": "text"
      },
      "source": [
        "Above, we created a Sequential model and added the Embedding layer as the first layer to the model. The length of the vocabulary is specified by the vocab_length parameter. The dimension of each word vector will be 20 and the input_length will be the length of the longest sentence, which is 7. Next, the Embedding layer is flattened so that it can be directly used with the densely connected layer. Since it is a binary classification problem, we use the sigmoid function as the loss function at the dense layer."
      ]
    },
    {
      "cell_type": "code",
      "metadata": {
        "id": "Ggt6F8sZFEnT",
        "colab_type": "code",
        "colab": {
          "base_uri": "https://localhost:8080/",
          "height": 276
        },
        "outputId": "29813b58-56e9-4f0a-9d6a-c8b208ad20ad"
      },
      "source": [
        "model.compile(optimizer='adam', loss='binary_crossentropy', metrics=['acc'])\n",
        "print(model.summary())"
      ],
      "execution_count": 32,
      "outputs": [
        {
          "output_type": "stream",
          "text": [
            "Model: \"sequential_1\"\n",
            "_________________________________________________________________\n",
            "Layer (type)                 Output Shape              Param #   \n",
            "=================================================================\n",
            "embedding_2 (Embedding)      (None, 7, 20)             1000      \n",
            "_________________________________________________________________\n",
            "flatten_2 (Flatten)          (None, 140)               0         \n",
            "_________________________________________________________________\n",
            "dense_2 (Dense)              (None, 1)                 141       \n",
            "=================================================================\n",
            "Total params: 1,141\n",
            "Trainable params: 1,141\n",
            "Non-trainable params: 0\n",
            "_________________________________________________________________\n",
            "None\n"
          ],
          "name": "stdout"
        }
      ]
    },
    {
      "cell_type": "markdown",
      "metadata": {
        "id": "aw8fuLxzIf7Z",
        "colab_type": "text"
      },
      "source": [
        "The first layer has 1000 trainable parameters. This is because our vocabulary size is 50 and each word will be presented as a 20 dimensional vector. Hence the total number of trainable parameters will be 1000. Similarly, the output from the embedding layer will be a sentence with 7 words where each word is represented by a 20 dimensional vector. However, when the 2D output is flattened, we get a 140 dimensional vector (7 x 20). The flattened vector is directly connected to the dense layer that contains 1 neuran."
      ]
    },
    {
      "cell_type": "code",
      "metadata": {
        "id": "1SREpOS7J9Pn",
        "colab_type": "code",
        "colab": {
          "base_uri": "https://localhost:8080/",
          "height": 1000
        },
        "outputId": "ab8df2e3-de65-4ce0-8eb0-c4c68a3268ae"
      },
      "source": [
        "model.fit(padded_sentence, sentiments, epochs = 100, verbose=1)"
      ],
      "execution_count": 33,
      "outputs": [
        {
          "output_type": "stream",
          "text": [
            "Epoch 1/100\n",
            "16/16 [==============================] - 0s 12ms/step - loss: 0.6889 - acc: 0.6250\n",
            "Epoch 2/100\n",
            "16/16 [==============================] - 0s 110us/step - loss: 0.6853 - acc: 0.6875\n",
            "Epoch 3/100\n",
            "16/16 [==============================] - 0s 138us/step - loss: 0.6817 - acc: 0.8125\n",
            "Epoch 4/100\n",
            "16/16 [==============================] - 0s 130us/step - loss: 0.6781 - acc: 0.8750\n",
            "Epoch 5/100\n",
            "16/16 [==============================] - 0s 106us/step - loss: 0.6745 - acc: 0.8750\n",
            "Epoch 6/100\n",
            "16/16 [==============================] - 0s 112us/step - loss: 0.6709 - acc: 0.8750\n",
            "Epoch 7/100\n",
            "16/16 [==============================] - 0s 105us/step - loss: 0.6673 - acc: 0.8750\n",
            "Epoch 8/100\n",
            "16/16 [==============================] - 0s 108us/step - loss: 0.6637 - acc: 0.8750\n",
            "Epoch 9/100\n",
            "16/16 [==============================] - 0s 101us/step - loss: 0.6600 - acc: 0.8750\n",
            "Epoch 10/100\n",
            "16/16 [==============================] - 0s 94us/step - loss: 0.6564 - acc: 0.9375\n",
            "Epoch 11/100\n",
            "16/16 [==============================] - 0s 86us/step - loss: 0.6527 - acc: 0.9375\n",
            "Epoch 12/100\n",
            "16/16 [==============================] - 0s 92us/step - loss: 0.6490 - acc: 0.9375\n",
            "Epoch 13/100\n",
            "16/16 [==============================] - 0s 152us/step - loss: 0.6453 - acc: 0.9375\n",
            "Epoch 14/100\n",
            "16/16 [==============================] - 0s 197us/step - loss: 0.6416 - acc: 0.9375\n",
            "Epoch 15/100\n",
            "16/16 [==============================] - 0s 121us/step - loss: 0.6379 - acc: 0.9375\n",
            "Epoch 16/100\n",
            "16/16 [==============================] - 0s 134us/step - loss: 0.6341 - acc: 0.9375\n",
            "Epoch 17/100\n",
            "16/16 [==============================] - 0s 144us/step - loss: 0.6303 - acc: 0.9375\n",
            "Epoch 18/100\n",
            "16/16 [==============================] - 0s 134us/step - loss: 0.6264 - acc: 0.9375\n",
            "Epoch 19/100\n",
            "16/16 [==============================] - 0s 134us/step - loss: 0.6225 - acc: 0.9375\n",
            "Epoch 20/100\n",
            "16/16 [==============================] - 0s 133us/step - loss: 0.6186 - acc: 0.9375\n",
            "Epoch 21/100\n",
            "16/16 [==============================] - 0s 128us/step - loss: 0.6147 - acc: 0.9375\n",
            "Epoch 22/100\n",
            "16/16 [==============================] - 0s 128us/step - loss: 0.6107 - acc: 0.9375\n",
            "Epoch 23/100\n",
            "16/16 [==============================] - 0s 174us/step - loss: 0.6067 - acc: 0.9375\n",
            "Epoch 24/100\n",
            "16/16 [==============================] - 0s 144us/step - loss: 0.6027 - acc: 0.9375\n",
            "Epoch 25/100\n",
            "16/16 [==============================] - 0s 118us/step - loss: 0.5986 - acc: 0.9375\n",
            "Epoch 26/100\n",
            "16/16 [==============================] - 0s 120us/step - loss: 0.5945 - acc: 0.9375\n",
            "Epoch 27/100\n",
            "16/16 [==============================] - 0s 119us/step - loss: 0.5904 - acc: 0.9375\n",
            "Epoch 28/100\n",
            "16/16 [==============================] - 0s 109us/step - loss: 0.5862 - acc: 0.9375\n",
            "Epoch 29/100\n",
            "16/16 [==============================] - 0s 127us/step - loss: 0.5820 - acc: 0.9375\n",
            "Epoch 30/100\n",
            "16/16 [==============================] - 0s 140us/step - loss: 0.5777 - acc: 0.9375\n",
            "Epoch 31/100\n",
            "16/16 [==============================] - 0s 128us/step - loss: 0.5734 - acc: 0.9375\n",
            "Epoch 32/100\n",
            "16/16 [==============================] - 0s 141us/step - loss: 0.5691 - acc: 0.9375\n",
            "Epoch 33/100\n",
            "16/16 [==============================] - 0s 110us/step - loss: 0.5647 - acc: 1.0000\n",
            "Epoch 34/100\n",
            "16/16 [==============================] - 0s 121us/step - loss: 0.5604 - acc: 1.0000\n",
            "Epoch 35/100\n",
            "16/16 [==============================] - 0s 126us/step - loss: 0.5559 - acc: 1.0000\n",
            "Epoch 36/100\n",
            "16/16 [==============================] - 0s 109us/step - loss: 0.5515 - acc: 1.0000\n",
            "Epoch 37/100\n",
            "16/16 [==============================] - 0s 113us/step - loss: 0.5470 - acc: 1.0000\n",
            "Epoch 38/100\n",
            "16/16 [==============================] - 0s 113us/step - loss: 0.5425 - acc: 1.0000\n",
            "Epoch 39/100\n",
            "16/16 [==============================] - 0s 136us/step - loss: 0.5379 - acc: 1.0000\n",
            "Epoch 40/100\n",
            "16/16 [==============================] - 0s 140us/step - loss: 0.5333 - acc: 1.0000\n",
            "Epoch 41/100\n",
            "16/16 [==============================] - 0s 122us/step - loss: 0.5287 - acc: 1.0000\n",
            "Epoch 42/100\n",
            "16/16 [==============================] - 0s 138us/step - loss: 0.5241 - acc: 1.0000\n",
            "Epoch 43/100\n",
            "16/16 [==============================] - 0s 120us/step - loss: 0.5194 - acc: 1.0000\n",
            "Epoch 44/100\n",
            "16/16 [==============================] - 0s 124us/step - loss: 0.5147 - acc: 1.0000\n",
            "Epoch 45/100\n",
            "16/16 [==============================] - 0s 127us/step - loss: 0.5100 - acc: 1.0000\n",
            "Epoch 46/100\n",
            "16/16 [==============================] - 0s 110us/step - loss: 0.5053 - acc: 1.0000\n",
            "Epoch 47/100\n",
            "16/16 [==============================] - 0s 126us/step - loss: 0.5006 - acc: 1.0000\n",
            "Epoch 48/100\n",
            "16/16 [==============================] - 0s 131us/step - loss: 0.4958 - acc: 1.0000\n",
            "Epoch 49/100\n",
            "16/16 [==============================] - 0s 126us/step - loss: 0.4910 - acc: 1.0000\n",
            "Epoch 50/100\n",
            "16/16 [==============================] - 0s 86us/step - loss: 0.4862 - acc: 1.0000\n",
            "Epoch 51/100\n",
            "16/16 [==============================] - 0s 89us/step - loss: 0.4814 - acc: 1.0000\n",
            "Epoch 52/100\n",
            "16/16 [==============================] - 0s 86us/step - loss: 0.4766 - acc: 1.0000\n",
            "Epoch 53/100\n",
            "16/16 [==============================] - 0s 107us/step - loss: 0.4718 - acc: 1.0000\n",
            "Epoch 54/100\n",
            "16/16 [==============================] - 0s 101us/step - loss: 0.4669 - acc: 1.0000\n",
            "Epoch 55/100\n",
            "16/16 [==============================] - 0s 128us/step - loss: 0.4621 - acc: 1.0000\n",
            "Epoch 56/100\n",
            "16/16 [==============================] - 0s 113us/step - loss: 0.4572 - acc: 1.0000\n",
            "Epoch 57/100\n",
            "16/16 [==============================] - 0s 142us/step - loss: 0.4524 - acc: 1.0000\n",
            "Epoch 58/100\n",
            "16/16 [==============================] - 0s 211us/step - loss: 0.4475 - acc: 1.0000\n",
            "Epoch 59/100\n",
            "16/16 [==============================] - 0s 1ms/step - loss: 0.4427 - acc: 1.0000\n",
            "Epoch 60/100\n",
            "16/16 [==============================] - 0s 496us/step - loss: 0.4378 - acc: 1.0000\n",
            "Epoch 61/100\n",
            "16/16 [==============================] - 0s 410us/step - loss: 0.4330 - acc: 1.0000\n",
            "Epoch 62/100\n",
            "16/16 [==============================] - 0s 212us/step - loss: 0.4281 - acc: 1.0000\n",
            "Epoch 63/100\n",
            "16/16 [==============================] - 0s 148us/step - loss: 0.4233 - acc: 1.0000\n",
            "Epoch 64/100\n",
            "16/16 [==============================] - 0s 186us/step - loss: 0.4185 - acc: 1.0000\n",
            "Epoch 65/100\n",
            "16/16 [==============================] - 0s 134us/step - loss: 0.4137 - acc: 1.0000\n",
            "Epoch 66/100\n",
            "16/16 [==============================] - 0s 168us/step - loss: 0.4088 - acc: 1.0000\n",
            "Epoch 67/100\n",
            "16/16 [==============================] - 0s 205us/step - loss: 0.4041 - acc: 1.0000\n",
            "Epoch 68/100\n",
            "16/16 [==============================] - 0s 164us/step - loss: 0.3993 - acc: 1.0000\n",
            "Epoch 69/100\n",
            "16/16 [==============================] - 0s 146us/step - loss: 0.3945 - acc: 1.0000\n",
            "Epoch 70/100\n",
            "16/16 [==============================] - 0s 140us/step - loss: 0.3898 - acc: 1.0000\n",
            "Epoch 71/100\n",
            "16/16 [==============================] - 0s 146us/step - loss: 0.3850 - acc: 1.0000\n",
            "Epoch 72/100\n",
            "16/16 [==============================] - 0s 136us/step - loss: 0.3803 - acc: 1.0000\n",
            "Epoch 73/100\n",
            "16/16 [==============================] - 0s 159us/step - loss: 0.3756 - acc: 1.0000\n",
            "Epoch 74/100\n",
            "16/16 [==============================] - 0s 163us/step - loss: 0.3710 - acc: 1.0000\n",
            "Epoch 75/100\n",
            "16/16 [==============================] - 0s 138us/step - loss: 0.3663 - acc: 1.0000\n",
            "Epoch 76/100\n",
            "16/16 [==============================] - 0s 138us/step - loss: 0.3617 - acc: 1.0000\n",
            "Epoch 77/100\n",
            "16/16 [==============================] - 0s 150us/step - loss: 0.3571 - acc: 1.0000\n",
            "Epoch 78/100\n",
            "16/16 [==============================] - 0s 183us/step - loss: 0.3526 - acc: 1.0000\n",
            "Epoch 79/100\n",
            "16/16 [==============================] - 0s 166us/step - loss: 0.3480 - acc: 1.0000\n",
            "Epoch 80/100\n",
            "16/16 [==============================] - 0s 130us/step - loss: 0.3435 - acc: 1.0000\n",
            "Epoch 81/100\n",
            "16/16 [==============================] - 0s 138us/step - loss: 0.3390 - acc: 1.0000\n",
            "Epoch 82/100\n",
            "16/16 [==============================] - 0s 132us/step - loss: 0.3346 - acc: 1.0000\n",
            "Epoch 83/100\n",
            "16/16 [==============================] - 0s 166us/step - loss: 0.3302 - acc: 1.0000\n",
            "Epoch 84/100\n",
            "16/16 [==============================] - 0s 143us/step - loss: 0.3258 - acc: 1.0000\n",
            "Epoch 85/100\n",
            "16/16 [==============================] - 0s 129us/step - loss: 0.3214 - acc: 1.0000\n",
            "Epoch 86/100\n",
            "16/16 [==============================] - 0s 133us/step - loss: 0.3171 - acc: 1.0000\n",
            "Epoch 87/100\n",
            "16/16 [==============================] - 0s 134us/step - loss: 0.3128 - acc: 1.0000\n",
            "Epoch 88/100\n",
            "16/16 [==============================] - 0s 129us/step - loss: 0.3086 - acc: 1.0000\n",
            "Epoch 89/100\n",
            "16/16 [==============================] - 0s 112us/step - loss: 0.3044 - acc: 1.0000\n",
            "Epoch 90/100\n",
            "16/16 [==============================] - 0s 117us/step - loss: 0.3002 - acc: 1.0000\n",
            "Epoch 91/100\n",
            "16/16 [==============================] - 0s 143us/step - loss: 0.2961 - acc: 1.0000\n",
            "Epoch 92/100\n",
            "16/16 [==============================] - 0s 161us/step - loss: 0.2920 - acc: 1.0000\n",
            "Epoch 93/100\n",
            "16/16 [==============================] - 0s 131us/step - loss: 0.2879 - acc: 1.0000\n",
            "Epoch 94/100\n",
            "16/16 [==============================] - 0s 142us/step - loss: 0.2839 - acc: 1.0000\n",
            "Epoch 95/100\n",
            "16/16 [==============================] - 0s 133us/step - loss: 0.2799 - acc: 1.0000\n",
            "Epoch 96/100\n",
            "16/16 [==============================] - 0s 164us/step - loss: 0.2760 - acc: 1.0000\n",
            "Epoch 97/100\n",
            "16/16 [==============================] - 0s 137us/step - loss: 0.2721 - acc: 1.0000\n",
            "Epoch 98/100\n",
            "16/16 [==============================] - 0s 172us/step - loss: 0.2683 - acc: 1.0000\n",
            "Epoch 99/100\n",
            "16/16 [==============================] - 0s 122us/step - loss: 0.2645 - acc: 1.0000\n",
            "Epoch 100/100\n",
            "16/16 [==============================] - 0s 123us/step - loss: 0.2607 - acc: 1.0000\n"
          ],
          "name": "stdout"
        },
        {
          "output_type": "execute_result",
          "data": {
            "text/plain": [
              "<keras.callbacks.History at 0x7fa6fb4edc50>"
            ]
          },
          "metadata": {
            "tags": []
          },
          "execution_count": 33
        }
      ]
    },
    {
      "cell_type": "markdown",
      "metadata": {
        "id": "lPKkyoKBads7",
        "colab_type": "text"
      },
      "source": [
        "We train and test our model using the same corpus."
      ]
    },
    {
      "cell_type": "markdown",
      "metadata": {
        "id": "MUmgI2aaL2H9",
        "colab_type": "text"
      },
      "source": [
        "verbose = 1, which includes both progress bar and one line per epoch. verbose = 0, means silent. verbose = 2, one line per epoch i.e. epoch no./total no. of epochs."
      ]
    },
    {
      "cell_type": "code",
      "metadata": {
        "id": "4PH1eqoHKlON",
        "colab_type": "code",
        "colab": {
          "base_uri": "https://localhost:8080/",
          "height": 35
        },
        "outputId": "97c5ee3b-e6e4-40dd-8e92-8e261c5ae8b8"
      },
      "source": [
        "loss, accuracy = model.evaluate(padded_sentence, sentiments, verbose=0)\n",
        "print('Accuracy: %f' % (accuracy*100))"
      ],
      "execution_count": 34,
      "outputs": [
        {
          "output_type": "stream",
          "text": [
            "Accuracy: 100.000000\n"
          ],
          "name": "stdout"
        }
      ]
    },
    {
      "cell_type": "code",
      "metadata": {
        "id": "HpRvxqKuLUH3",
        "colab_type": "code",
        "colab": {}
      },
      "source": [
        ""
      ],
      "execution_count": 0,
      "outputs": []
    },
    {
      "cell_type": "markdown",
      "metadata": {
        "id": "f1aI7nADatx7",
        "colab_type": "text"
      },
      "source": [
        "### Loading Pretrained Word embeddings"
      ]
    },
    {
      "cell_type": "code",
      "metadata": {
        "id": "YJTpIydeaoSx",
        "colab_type": "code",
        "colab": {
          "base_uri": "https://localhost:8080/",
          "height": 81
        },
        "outputId": "4f04ecea-b0a7-4703-8302-f402e7d162b8"
      },
      "source": [
        "from numpy import array\n",
        "from keras.preprocessing.text import one_hot\n",
        "from keras.preprocessing.sequence import pad_sequences\n",
        "from keras.models import Sequential\n",
        "from keras.layers import Dense\n",
        "from keras.layers import Flatten\n",
        "from keras.layers.embeddings import Embedding"
      ],
      "execution_count": 1,
      "outputs": [
        {
          "output_type": "stream",
          "text": [
            "Using TensorFlow backend.\n"
          ],
          "name": "stderr"
        },
        {
          "output_type": "display_data",
          "data": {
            "text/html": [
              "<p style=\"color: red;\">\n",
              "The default version of TensorFlow in Colab will soon switch to TensorFlow 2.x.<br>\n",
              "We recommend you <a href=\"https://www.tensorflow.org/guide/migrate\" target=\"_blank\">upgrade</a> now \n",
              "or ensure your notebook will continue to use TensorFlow 1.x via the <code>%tensorflow_version 1.x</code> magic:\n",
              "<a href=\"https://colab.research.google.com/notebooks/tensorflow_version.ipynb\" target=\"_blank\">more info</a>.</p>\n"
            ],
            "text/plain": [
              "<IPython.core.display.HTML object>"
            ]
          },
          "metadata": {
            "tags": []
          }
        }
      ]
    },
    {
      "cell_type": "code",
      "metadata": {
        "id": "rsiQ7tTGbF9q",
        "colab_type": "code",
        "colab": {}
      },
      "source": [
        "corpus = [\n",
        "    # Positive Reviews\n",
        "\n",
        "    'This is an excellent movie',\n",
        "    'The move was fantastic I like it',\n",
        "    'You should watch it is brilliant',\n",
        "    'Exceptionally good',\n",
        "    'Wonderfully directed and executed I like it',\n",
        "    'Its a fantastic series',\n",
        "    'Never watched such a brillent movie',\n",
        "    'It is a Wonderful movie',\n",
        "\n",
        "    # Negtive Reviews\n",
        "\n",
        "    \"horrible acting\",\n",
        "    'waste of money',\n",
        "    'pathetic picture',\n",
        "    'It was very boring',\n",
        "    'I did not like the movie',\n",
        "    'The movie was horrible',\n",
        "    'I will not recommend',\n",
        "    'The acting is pathetic'\n",
        "]\n"
      ],
      "execution_count": 0,
      "outputs": []
    },
    {
      "cell_type": "code",
      "metadata": {
        "id": "lkMhHs9abNwK",
        "colab_type": "code",
        "colab": {}
      },
      "source": [
        "sentiments = array([1,1,1,1,1,1,1,1,0,0,0,0,0,0,0,0])"
      ],
      "execution_count": 0,
      "outputs": []
    },
    {
      "cell_type": "markdown",
      "metadata": {
        "id": "FZZ--eAAbTLU",
        "colab_type": "text"
      },
      "source": [
        "\n",
        "*   In the last section we used one_hot function to convert text to vectors. Here we'll use Tokenizer function.\n",
        "*   You simply have to pass your corpus to the Tokenizer's fit_on_text method.\n",
        "\n",
        "\n"
      ]
    },
    {
      "cell_type": "code",
      "metadata": {
        "id": "oWxXXkNJcN4P",
        "colab_type": "code",
        "colab": {}
      },
      "source": [
        "from keras.preprocessing.text import Tokenizer"
      ],
      "execution_count": 0,
      "outputs": []
    },
    {
      "cell_type": "code",
      "metadata": {
        "id": "uta8g1MebPDX",
        "colab_type": "code",
        "colab": {
          "base_uri": "https://localhost:8080/",
          "height": 294
        },
        "outputId": "eaf701f6-144d-4ebc-cb15-a569d7500806"
      },
      "source": [
        "word_tokenizer = Tokenizer()\n",
        "word_tokenizer.fit_on_texts(corpus)\n",
        "corpus"
      ],
      "execution_count": 9,
      "outputs": [
        {
          "output_type": "execute_result",
          "data": {
            "text/plain": [
              "['This is an excellent movie',\n",
              " 'The move was fantastic I like it',\n",
              " 'You should watch it is brilliant',\n",
              " 'Exceptionally good',\n",
              " 'Wonderfully directed and executed I like it',\n",
              " 'Its a fantastic series',\n",
              " 'Never watched such a brillent movie',\n",
              " 'It is a Wonderful movie',\n",
              " 'horrible acting',\n",
              " 'waste of money',\n",
              " 'pathetic picture',\n",
              " 'It was very boring',\n",
              " 'I did not like the movie',\n",
              " 'The movie was horrible',\n",
              " 'I will not recommend',\n",
              " 'The acting is pathetic']"
            ]
          },
          "metadata": {
            "tags": []
          },
          "execution_count": 9
        }
      ]
    },
    {
      "cell_type": "markdown",
      "metadata": {
        "id": "VCRbrdTvcgf7",
        "colab_type": "text"
      },
      "source": [
        "To get the number of unique words in the text, you can simply count the length of word_index dictionary of the word_tokenizer object. 1 is added to the vocabulary size in order to store the dimensions for the words for which no pretrained word embeddings exist."
      ]
    },
    {
      "cell_type": "code",
      "metadata": {
        "id": "gosj-RtFcIog",
        "colab_type": "code",
        "colab": {
          "base_uri": "https://localhost:8080/",
          "height": 35
        },
        "outputId": "52787d86-dff2-4ebe-e4ef-d31208694d0b"
      },
      "source": [
        "vocab_length = len(word_tokenizer.word_index) + 1\n",
        "vocab_length"
      ],
      "execution_count": 7,
      "outputs": [
        {
          "output_type": "execute_result",
          "data": {
            "text/plain": [
              "44"
            ]
          },
          "metadata": {
            "tags": []
          },
          "execution_count": 7
        }
      ]
    },
    {
      "cell_type": "markdown",
      "metadata": {
        "id": "xw9xGpjOdDL2",
        "colab_type": "text"
      },
      "source": [
        "Finally, to convert sentences to their numeric counterpart, call the texts_to_sequences function and pass it the whole corpus."
      ]
    },
    {
      "cell_type": "code",
      "metadata": {
        "id": "L2EjwY6xc8vO",
        "colab_type": "code",
        "colab": {
          "base_uri": "https://localhost:8080/",
          "height": 294
        },
        "outputId": "ddcdaa12-ca71-4394-8643-0dafbf3e0598"
      },
      "source": [
        "embedded_sentences = word_tokenizer.texts_to_sequences(corpus)\n",
        "embedded_sentences"
      ],
      "execution_count": 10,
      "outputs": [
        {
          "output_type": "execute_result",
          "data": {
            "text/plain": [
              "[[14, 3, 15, 16, 1],\n",
              " [4, 17, 6, 9, 5, 7, 2],\n",
              " [18, 19, 20, 2, 3, 21],\n",
              " [22, 23],\n",
              " [24, 25, 26, 27, 5, 7, 2],\n",
              " [28, 8, 9, 29],\n",
              " [30, 31, 32, 8, 33, 1],\n",
              " [2, 3, 8, 34, 1],\n",
              " [10, 11],\n",
              " [35, 36, 37],\n",
              " [12, 38],\n",
              " [2, 6, 39, 40],\n",
              " [5, 41, 13, 7, 4, 1],\n",
              " [4, 1, 6, 10],\n",
              " [5, 42, 13, 43],\n",
              " [4, 11, 3, 12]]"
            ]
          },
          "metadata": {
            "tags": []
          },
          "execution_count": 10
        }
      ]
    },
    {
      "cell_type": "markdown",
      "metadata": {
        "id": "Ug3TqJXXd47D",
        "colab_type": "text"
      },
      "source": [
        "The next step is to find the number of words in the longest sentence and then to apply padding to the sentences having shorter lengths than the length of the longest sentence."
      ]
    },
    {
      "cell_type": "code",
      "metadata": {
        "id": "DLHm0ivVdmre",
        "colab_type": "code",
        "colab": {
          "base_uri": "https://localhost:8080/",
          "height": 294
        },
        "outputId": "a8d8cec0-547a-4d36-d982-16830a74d9de"
      },
      "source": [
        "from nltk.tokenize import word_tokenize\n",
        "\n",
        "word_count = lambda sentence: len(word_tokenize(sentence))\n",
        "longest_sentence = max(corpus, key = word_count)\n",
        "length_long_sentence = len(word_tokenize(longest_sentence))\n",
        "\n",
        "padded_sentence = pad_sequences(embedded_sentences, length_long_sentence, padding='post')\n",
        "\n",
        "padded_sentence"
      ],
      "execution_count": 13,
      "outputs": [
        {
          "output_type": "execute_result",
          "data": {
            "text/plain": [
              "array([[14,  3, 15, 16,  1,  0,  0],\n",
              "       [ 4, 17,  6,  9,  5,  7,  2],\n",
              "       [18, 19, 20,  2,  3, 21,  0],\n",
              "       [22, 23,  0,  0,  0,  0,  0],\n",
              "       [24, 25, 26, 27,  5,  7,  2],\n",
              "       [28,  8,  9, 29,  0,  0,  0],\n",
              "       [30, 31, 32,  8, 33,  1,  0],\n",
              "       [ 2,  3,  8, 34,  1,  0,  0],\n",
              "       [10, 11,  0,  0,  0,  0,  0],\n",
              "       [35, 36, 37,  0,  0,  0,  0],\n",
              "       [12, 38,  0,  0,  0,  0,  0],\n",
              "       [ 2,  6, 39, 40,  0,  0,  0],\n",
              "       [ 5, 41, 13,  7,  4,  1,  0],\n",
              "       [ 4,  1,  6, 10,  0,  0,  0],\n",
              "       [ 5, 42, 13, 43,  0,  0,  0],\n",
              "       [ 4, 11,  3, 12,  0,  0,  0]], dtype=int32)"
            ]
          },
          "metadata": {
            "tags": []
          },
          "execution_count": 13
        }
      ]
    },
    {
      "cell_type": "markdown",
      "metadata": {
        "id": "Y9UOPQ0_hoLt",
        "colab_type": "text"
      },
      "source": [
        " The next step is to load the GloVe word embeddings and then create our embedding matrix that contains the words in our corpus and their corresponding values from GloVe embeddings. "
      ]
    },
    {
      "cell_type": "code",
      "metadata": {
        "id": "CfOWpUppfDb8",
        "colab_type": "code",
        "colab": {}
      },
      "source": [
        "from numpy import array\n",
        "from numpy import asarray\n",
        "from numpy import zeros\n",
        "\n",
        "embeddings_dictionary =dict()\n",
        "glove_file = open('/content/drive/My Drive/glove.6B.100d.txt', encoding='utf8')"
      ],
      "execution_count": 0,
      "outputs": []
    },
    {
      "cell_type": "code",
      "metadata": {
        "id": "V7hEv4Zji4a8",
        "colab_type": "code",
        "colab": {
          "base_uri": "https://localhost:8080/",
          "height": 124
        },
        "outputId": "82183ad7-dde4-43a1-dc60-f867fec426e8"
      },
      "source": [
        "from google.colab import drive\n",
        "drive.mount('/content/drive')"
      ],
      "execution_count": 13,
      "outputs": [
        {
          "output_type": "stream",
          "text": [
            "Go to this URL in a browser: https://accounts.google.com/o/oauth2/auth?client_id=947318989803-6bn6qk8qdgf4n4g3pfee6491hc0brc4i.apps.googleusercontent.com&redirect_uri=urn%3aietf%3awg%3aoauth%3a2.0%3aoob&response_type=code&scope=email%20https%3a%2f%2fwww.googleapis.com%2fauth%2fdocs.test%20https%3a%2f%2fwww.googleapis.com%2fauth%2fdrive%20https%3a%2f%2fwww.googleapis.com%2fauth%2fdrive.photos.readonly%20https%3a%2f%2fwww.googleapis.com%2fauth%2fpeopleapi.readonly\n",
            "\n",
            "Enter your authorization code:\n",
            "··········\n",
            "Mounted at /content/drive\n"
          ],
          "name": "stdout"
        }
      ]
    },
    {
      "cell_type": "markdown",
      "metadata": {
        "id": "7Xg9EmEYkIRZ",
        "colab_type": "text"
      },
      "source": [
        "This file contains 100 dimensional word embeddings. We also created an empty dictionary that will store our word embeddings."
      ]
    },
    {
      "cell_type": "markdown",
      "metadata": {
        "id": "037ZPnNjkNs5",
        "colab_type": "text"
      },
      "source": [
        "We will create a dictionary that will contain words as keys and the corresponding 100 dimensional vectors as values, in the form of an array."
      ]
    },
    {
      "cell_type": "code",
      "metadata": {
        "id": "K6AUivJxi_In",
        "colab_type": "code",
        "colab": {}
      },
      "source": [
        "for line in glove_file:\n",
        "    records = line.split()\n",
        "    word = records[0]\n",
        "    vector_dimensions = asarray(records[1:], dtype='float32')\n",
        "    embeddings_dictionary [word] = vector_dimensions\n",
        "\n",
        "glove_file.close()"
      ],
      "execution_count": 0,
      "outputs": []
    },
    {
      "cell_type": "markdown",
      "metadata": {
        "id": "In34j1HklJsf",
        "colab_type": "text"
      },
      "source": [
        "The dictionary embeddings_dictionary \n",
        "now contains words and corresponding GloVe embeddings for all the words.\n",
        "\n",
        "\n",
        "---\n",
        "We want the word embeddings for only those words that are present in our corpus. We will create a two dimensional numpy array of 44 (size of vocabulary) rows and 100 columns. The array will initially contain zeros. The array will be named as embedding_matrix\n",
        "\n",
        "\n",
        "---\n",
        "Next, we will iterate through each word in our corpus by traversing the word_tokenizer.word_index dictionary that contains our words and their corresponding index.\n",
        "\n",
        "Each word will be passed as key to the embedding_dictionary to retrieve the corresponding 100 dimensional vector for the word. The 100 dimensional vector will then be stored at the corresponding index of the word in the embedding_matrix\n",
        "\n"
      ]
    },
    {
      "cell_type": "code",
      "metadata": {
        "id": "ZAt0JN6Jk0VA",
        "colab_type": "code",
        "colab": {}
      },
      "source": [
        "embedding_matrix = zeros((vocab_length, 100))\n",
        "for word, index in word_tokenizer.word_index.items():\n",
        "    embedding_vector = embeddings_dictionary.get(word)\n",
        "    if embedding_vector is not None:\n",
        "        embedding_matrix[index] = embedding_vector"
      ],
      "execution_count": 0,
      "outputs": []
    },
    {
      "cell_type": "markdown",
      "metadata": {
        "id": "ULpKtvwUlznv",
        "colab_type": "text"
      },
      "source": [
        "Our embedding_matrix now contains pretrained word embeddings for the words in our corpus."
      ]
    },
    {
      "cell_type": "code",
      "metadata": {
        "id": "5ge8RZFRlvoA",
        "colab_type": "code",
        "colab": {}
      },
      "source": [
        "model = Sequential()\n",
        "embedding_layer = Embedding(vocab_length, 100, weights=[embedding_matrix], input_length=length_long_sentence, trainable=False)\n",
        "model.add(embedding_layer)\n",
        "model.add(Flatten())\n",
        "model.add(Dense(1, activation='sigmoid'))"
      ],
      "execution_count": 0,
      "outputs": []
    },
    {
      "cell_type": "markdown",
      "metadata": {
        "id": "PH3tvaHSmGTn",
        "colab_type": "text"
      },
      "source": [
        "\n",
        "\n",
        "*   The script remains the same, except for the embedding layer. Here in the embedding layer, the first parameter is the size of the vacabulary. The second parameter is the vector dimension of the output vector. Since we are using pretrained word embeddings that contain 100 dimensional vector, we set the vector dimension to 100.\n",
        "\n",
        "\n",
        "*   Another very important attribute of the Embedding() layer that we did not use in the last section is weights. You can pass your pretrained embedding matrix as default weights to the weights parameter. And since we are not training the embedding layer, the trainable attribute has been set to False.\n",
        "\n"
      ]
    },
    {
      "cell_type": "code",
      "metadata": {
        "id": "RyuonCvUl4CC",
        "colab_type": "code",
        "colab": {
          "base_uri": "https://localhost:8080/",
          "height": 417
        },
        "outputId": "b1f5653f-66cc-4999-efea-6eba6a292dcd"
      },
      "source": [
        "model.compile(optimizer='adam', loss='binary_crossentropy', metrics=['acc'])\n",
        "print(model.summary())"
      ],
      "execution_count": 22,
      "outputs": [
        {
          "output_type": "stream",
          "text": [
            "WARNING:tensorflow:From /usr/local/lib/python3.6/dist-packages/keras/optimizers.py:793: The name tf.train.Optimizer is deprecated. Please use tf.compat.v1.train.Optimizer instead.\n",
            "\n",
            "WARNING:tensorflow:From /usr/local/lib/python3.6/dist-packages/keras/backend/tensorflow_backend.py:3657: The name tf.log is deprecated. Please use tf.math.log instead.\n",
            "\n",
            "WARNING:tensorflow:From /usr/local/lib/python3.6/dist-packages/tensorflow_core/python/ops/nn_impl.py:183: where (from tensorflow.python.ops.array_ops) is deprecated and will be removed in a future version.\n",
            "Instructions for updating:\n",
            "Use tf.where in 2.0, which has the same broadcast rule as np.where\n",
            "Model: \"sequential_1\"\n",
            "_________________________________________________________________\n",
            "Layer (type)                 Output Shape              Param #   \n",
            "=================================================================\n",
            "embedding_1 (Embedding)      (None, 7, 100)            4400      \n",
            "_________________________________________________________________\n",
            "flatten_1 (Flatten)          (None, 700)               0         \n",
            "_________________________________________________________________\n",
            "dense_1 (Dense)              (None, 1)                 701       \n",
            "=================================================================\n",
            "Total params: 5,101\n",
            "Trainable params: 701\n",
            "Non-trainable params: 4,400\n",
            "_________________________________________________________________\n",
            "None\n"
          ],
          "name": "stdout"
        }
      ]
    },
    {
      "cell_type": "markdown",
      "metadata": {
        "id": "I5a1xGkXmghU",
        "colab_type": "text"
      },
      "source": [
        "We are again using adam as the optizer to minimize the loss. The loss function being used is binary_crossentropy. And we want to see the results in the form of accuracy so acc has been passed as the value for the metrics attribute."
      ]
    },
    {
      "cell_type": "code",
      "metadata": {
        "id": "j0sxk4G0mRrD",
        "colab_type": "code",
        "colab": {
          "base_uri": "https://localhost:8080/",
          "height": 1000
        },
        "outputId": "8aaa26d7-a79c-47b0-a1ae-f46dba1bd614"
      },
      "source": [
        "model.fit(padded_sentence, sentiments, epochs=100, verbose=1)"
      ],
      "execution_count": 24,
      "outputs": [
        {
          "output_type": "stream",
          "text": [
            "WARNING:tensorflow:From /usr/local/lib/python3.6/dist-packages/keras/backend/tensorflow_backend.py:1033: The name tf.assign_add is deprecated. Please use tf.compat.v1.assign_add instead.\n",
            "\n",
            "WARNING:tensorflow:From /usr/local/lib/python3.6/dist-packages/keras/backend/tensorflow_backend.py:1020: The name tf.assign is deprecated. Please use tf.compat.v1.assign instead.\n",
            "\n",
            "Epoch 1/100\n",
            "16/16 [==============================] - 0s 23ms/step - loss: 0.6466 - acc: 0.6250\n",
            "Epoch 2/100\n",
            "16/16 [==============================] - 0s 274us/step - loss: 0.6280 - acc: 0.6250\n",
            "Epoch 3/100\n",
            "16/16 [==============================] - 0s 289us/step - loss: 0.6075 - acc: 0.6250\n",
            "Epoch 4/100\n",
            "16/16 [==============================] - 0s 155us/step - loss: 0.5847 - acc: 0.6875\n",
            "Epoch 5/100\n",
            "16/16 [==============================] - 0s 122us/step - loss: 0.5643 - acc: 0.6875\n",
            "Epoch 6/100\n",
            "16/16 [==============================] - 0s 136us/step - loss: 0.5446 - acc: 0.6875\n",
            "Epoch 7/100\n",
            "16/16 [==============================] - 0s 116us/step - loss: 0.5258 - acc: 0.7500\n",
            "Epoch 8/100\n",
            "16/16 [==============================] - 0s 128us/step - loss: 0.5077 - acc: 0.7500\n",
            "Epoch 9/100\n",
            "16/16 [==============================] - 0s 113us/step - loss: 0.4905 - acc: 0.7500\n",
            "Epoch 10/100\n",
            "16/16 [==============================] - 0s 111us/step - loss: 0.4741 - acc: 0.7500\n",
            "Epoch 11/100\n",
            "16/16 [==============================] - 0s 106us/step - loss: 0.4585 - acc: 0.8125\n",
            "Epoch 12/100\n",
            "16/16 [==============================] - 0s 120us/step - loss: 0.4437 - acc: 0.8125\n",
            "Epoch 13/100\n",
            "16/16 [==============================] - 0s 97us/step - loss: 0.4294 - acc: 0.8750\n",
            "Epoch 14/100\n",
            "16/16 [==============================] - 0s 110us/step - loss: 0.4159 - acc: 0.8750\n",
            "Epoch 15/100\n",
            "16/16 [==============================] - 0s 101us/step - loss: 0.4029 - acc: 0.8750\n",
            "Epoch 16/100\n",
            "16/16 [==============================] - 0s 103us/step - loss: 0.3905 - acc: 0.8750\n",
            "Epoch 17/100\n",
            "16/16 [==============================] - 0s 111us/step - loss: 0.3785 - acc: 0.8750\n",
            "Epoch 18/100\n",
            "16/16 [==============================] - 0s 111us/step - loss: 0.3670 - acc: 0.8750\n",
            "Epoch 19/100\n",
            "16/16 [==============================] - 0s 115us/step - loss: 0.3561 - acc: 0.8750\n",
            "Epoch 20/100\n",
            "16/16 [==============================] - 0s 108us/step - loss: 0.3455 - acc: 0.9375\n",
            "Epoch 21/100\n",
            "16/16 [==============================] - 0s 118us/step - loss: 0.3353 - acc: 0.9375\n",
            "Epoch 22/100\n",
            "16/16 [==============================] - 0s 120us/step - loss: 0.3256 - acc: 0.9375\n",
            "Epoch 23/100\n",
            "16/16 [==============================] - 0s 117us/step - loss: 0.3163 - acc: 0.9375\n",
            "Epoch 24/100\n",
            "16/16 [==============================] - 0s 108us/step - loss: 0.3072 - acc: 0.9375\n",
            "Epoch 25/100\n",
            "16/16 [==============================] - 0s 105us/step - loss: 0.2986 - acc: 0.9375\n",
            "Epoch 26/100\n",
            "16/16 [==============================] - 0s 107us/step - loss: 0.2902 - acc: 0.9375\n",
            "Epoch 27/100\n",
            "16/16 [==============================] - 0s 103us/step - loss: 0.2823 - acc: 0.9375\n",
            "Epoch 28/100\n",
            "16/16 [==============================] - 0s 118us/step - loss: 0.2746 - acc: 0.9375\n",
            "Epoch 29/100\n",
            "16/16 [==============================] - 0s 112us/step - loss: 0.2672 - acc: 0.9375\n",
            "Epoch 30/100\n",
            "16/16 [==============================] - 0s 116us/step - loss: 0.2601 - acc: 0.9375\n",
            "Epoch 31/100\n",
            "16/16 [==============================] - 0s 107us/step - loss: 0.2533 - acc: 0.9375\n",
            "Epoch 32/100\n",
            "16/16 [==============================] - 0s 105us/step - loss: 0.2467 - acc: 0.9375\n",
            "Epoch 33/100\n",
            "16/16 [==============================] - 0s 107us/step - loss: 0.2403 - acc: 0.9375\n",
            "Epoch 34/100\n",
            "16/16 [==============================] - 0s 106us/step - loss: 0.2342 - acc: 0.9375\n",
            "Epoch 35/100\n",
            "16/16 [==============================] - 0s 116us/step - loss: 0.2284 - acc: 1.0000\n",
            "Epoch 36/100\n",
            "16/16 [==============================] - 0s 104us/step - loss: 0.2227 - acc: 1.0000\n",
            "Epoch 37/100\n",
            "16/16 [==============================] - 0s 115us/step - loss: 0.2172 - acc: 1.0000\n",
            "Epoch 38/100\n",
            "16/16 [==============================] - 0s 113us/step - loss: 0.2119 - acc: 1.0000\n",
            "Epoch 39/100\n",
            "16/16 [==============================] - 0s 105us/step - loss: 0.2068 - acc: 1.0000\n",
            "Epoch 40/100\n",
            "16/16 [==============================] - 0s 104us/step - loss: 0.2019 - acc: 1.0000\n",
            "Epoch 41/100\n",
            "16/16 [==============================] - 0s 115us/step - loss: 0.1972 - acc: 1.0000\n",
            "Epoch 42/100\n",
            "16/16 [==============================] - 0s 82us/step - loss: 0.1926 - acc: 1.0000\n",
            "Epoch 43/100\n",
            "16/16 [==============================] - 0s 86us/step - loss: 0.1882 - acc: 1.0000\n",
            "Epoch 44/100\n",
            "16/16 [==============================] - 0s 114us/step - loss: 0.1839 - acc: 1.0000\n",
            "Epoch 45/100\n",
            "16/16 [==============================] - 0s 105us/step - loss: 0.1798 - acc: 1.0000\n",
            "Epoch 46/100\n",
            "16/16 [==============================] - 0s 103us/step - loss: 0.1757 - acc: 1.0000\n",
            "Epoch 47/100\n",
            "16/16 [==============================] - 0s 105us/step - loss: 0.1719 - acc: 1.0000\n",
            "Epoch 48/100\n",
            "16/16 [==============================] - 0s 111us/step - loss: 0.1681 - acc: 1.0000\n",
            "Epoch 49/100\n",
            "16/16 [==============================] - 0s 105us/step - loss: 0.1645 - acc: 1.0000\n",
            "Epoch 50/100\n",
            "16/16 [==============================] - 0s 94us/step - loss: 0.1610 - acc: 1.0000\n",
            "Epoch 51/100\n",
            "16/16 [==============================] - 0s 94us/step - loss: 0.1576 - acc: 1.0000\n",
            "Epoch 52/100\n",
            "16/16 [==============================] - 0s 105us/step - loss: 0.1543 - acc: 1.0000\n",
            "Epoch 53/100\n",
            "16/16 [==============================] - 0s 117us/step - loss: 0.1511 - acc: 1.0000\n",
            "Epoch 54/100\n",
            "16/16 [==============================] - 0s 107us/step - loss: 0.1481 - acc: 1.0000\n",
            "Epoch 55/100\n",
            "16/16 [==============================] - 0s 102us/step - loss: 0.1451 - acc: 1.0000\n",
            "Epoch 56/100\n",
            "16/16 [==============================] - 0s 126us/step - loss: 0.1422 - acc: 1.0000\n",
            "Epoch 57/100\n",
            "16/16 [==============================] - 0s 107us/step - loss: 0.1394 - acc: 1.0000\n",
            "Epoch 58/100\n",
            "16/16 [==============================] - 0s 113us/step - loss: 0.1367 - acc: 1.0000\n",
            "Epoch 59/100\n",
            "16/16 [==============================] - 0s 110us/step - loss: 0.1340 - acc: 1.0000\n",
            "Epoch 60/100\n",
            "16/16 [==============================] - 0s 105us/step - loss: 0.1315 - acc: 1.0000\n",
            "Epoch 61/100\n",
            "16/16 [==============================] - 0s 107us/step - loss: 0.1290 - acc: 1.0000\n",
            "Epoch 62/100\n",
            "16/16 [==============================] - 0s 111us/step - loss: 0.1266 - acc: 1.0000\n",
            "Epoch 63/100\n",
            "16/16 [==============================] - 0s 141us/step - loss: 0.1242 - acc: 1.0000\n",
            "Epoch 64/100\n",
            "16/16 [==============================] - 0s 109us/step - loss: 0.1219 - acc: 1.0000\n",
            "Epoch 65/100\n",
            "16/16 [==============================] - 0s 112us/step - loss: 0.1197 - acc: 1.0000\n",
            "Epoch 66/100\n",
            "16/16 [==============================] - 0s 139us/step - loss: 0.1176 - acc: 1.0000\n",
            "Epoch 67/100\n",
            "16/16 [==============================] - 0s 165us/step - loss: 0.1155 - acc: 1.0000\n",
            "Epoch 68/100\n",
            "16/16 [==============================] - 0s 129us/step - loss: 0.1135 - acc: 1.0000\n",
            "Epoch 69/100\n",
            "16/16 [==============================] - 0s 104us/step - loss: 0.1115 - acc: 1.0000\n",
            "Epoch 70/100\n",
            "16/16 [==============================] - 0s 111us/step - loss: 0.1096 - acc: 1.0000\n",
            "Epoch 71/100\n",
            "16/16 [==============================] - 0s 119us/step - loss: 0.1077 - acc: 1.0000\n",
            "Epoch 72/100\n",
            "16/16 [==============================] - 0s 127us/step - loss: 0.1059 - acc: 1.0000\n",
            "Epoch 73/100\n",
            "16/16 [==============================] - 0s 106us/step - loss: 0.1041 - acc: 1.0000\n",
            "Epoch 74/100\n",
            "16/16 [==============================] - 0s 155us/step - loss: 0.1024 - acc: 1.0000\n",
            "Epoch 75/100\n",
            "16/16 [==============================] - 0s 146us/step - loss: 0.1007 - acc: 1.0000\n",
            "Epoch 76/100\n",
            "16/16 [==============================] - 0s 115us/step - loss: 0.0991 - acc: 1.0000\n",
            "Epoch 77/100\n",
            "16/16 [==============================] - 0s 108us/step - loss: 0.0975 - acc: 1.0000\n",
            "Epoch 78/100\n",
            "16/16 [==============================] - 0s 118us/step - loss: 0.0959 - acc: 1.0000\n",
            "Epoch 79/100\n",
            "16/16 [==============================] - 0s 115us/step - loss: 0.0944 - acc: 1.0000\n",
            "Epoch 80/100\n",
            "16/16 [==============================] - 0s 105us/step - loss: 0.0929 - acc: 1.0000\n",
            "Epoch 81/100\n",
            "16/16 [==============================] - 0s 141us/step - loss: 0.0915 - acc: 1.0000\n",
            "Epoch 82/100\n",
            "16/16 [==============================] - 0s 150us/step - loss: 0.0901 - acc: 1.0000\n",
            "Epoch 83/100\n",
            "16/16 [==============================] - 0s 113us/step - loss: 0.0887 - acc: 1.0000\n",
            "Epoch 84/100\n",
            "16/16 [==============================] - 0s 121us/step - loss: 0.0874 - acc: 1.0000\n",
            "Epoch 85/100\n",
            "16/16 [==============================] - 0s 109us/step - loss: 0.0861 - acc: 1.0000\n",
            "Epoch 86/100\n",
            "16/16 [==============================] - 0s 116us/step - loss: 0.0848 - acc: 1.0000\n",
            "Epoch 87/100\n",
            "16/16 [==============================] - 0s 116us/step - loss: 0.0836 - acc: 1.0000\n",
            "Epoch 88/100\n",
            "16/16 [==============================] - 0s 108us/step - loss: 0.0824 - acc: 1.0000\n",
            "Epoch 89/100\n",
            "16/16 [==============================] - 0s 104us/step - loss: 0.0812 - acc: 1.0000\n",
            "Epoch 90/100\n",
            "16/16 [==============================] - 0s 136us/step - loss: 0.0800 - acc: 1.0000\n",
            "Epoch 91/100\n",
            "16/16 [==============================] - 0s 133us/step - loss: 0.0789 - acc: 1.0000\n",
            "Epoch 92/100\n",
            "16/16 [==============================] - 0s 111us/step - loss: 0.0778 - acc: 1.0000\n",
            "Epoch 93/100\n",
            "16/16 [==============================] - 0s 114us/step - loss: 0.0767 - acc: 1.0000\n",
            "Epoch 94/100\n",
            "16/16 [==============================] - 0s 102us/step - loss: 0.0757 - acc: 1.0000\n",
            "Epoch 95/100\n",
            "16/16 [==============================] - 0s 119us/step - loss: 0.0746 - acc: 1.0000\n",
            "Epoch 96/100\n",
            "16/16 [==============================] - 0s 104us/step - loss: 0.0736 - acc: 1.0000\n",
            "Epoch 97/100\n",
            "16/16 [==============================] - 0s 106us/step - loss: 0.0726 - acc: 1.0000\n",
            "Epoch 98/100\n",
            "16/16 [==============================] - 0s 111us/step - loss: 0.0717 - acc: 1.0000\n",
            "Epoch 99/100\n",
            "16/16 [==============================] - 0s 117us/step - loss: 0.0707 - acc: 1.0000\n",
            "Epoch 100/100\n",
            "16/16 [==============================] - 0s 145us/step - loss: 0.0698 - acc: 1.0000\n"
          ],
          "name": "stdout"
        },
        {
          "output_type": "execute_result",
          "data": {
            "text/plain": [
              "<keras.callbacks.History at 0x7fa61d89d9b0>"
            ]
          },
          "metadata": {
            "tags": []
          },
          "execution_count": 24
        }
      ]
    },
    {
      "cell_type": "code",
      "metadata": {
        "id": "zE5CHbFjmtNO",
        "colab_type": "code",
        "colab": {
          "base_uri": "https://localhost:8080/",
          "height": 35
        },
        "outputId": "06e12ea7-7364-4791-9235-3214dc6f7024"
      },
      "source": [
        "loss, accuracy = model.evaluate(padded_sentence, sentiments, verbose=0)\n",
        "print('Accuracy: %f' % (accuracy*100))"
      ],
      "execution_count": 25,
      "outputs": [
        {
          "output_type": "stream",
          "text": [
            "Accuracy: 100.000000\n"
          ],
          "name": "stdout"
        }
      ]
    },
    {
      "cell_type": "code",
      "metadata": {
        "id": "sJKKAC80m94P",
        "colab_type": "code",
        "colab": {}
      },
      "source": [
        ""
      ],
      "execution_count": 0,
      "outputs": []
    },
    {
      "cell_type": "markdown",
      "metadata": {
        "id": "ygxwcNAjF2KO",
        "colab_type": "text"
      },
      "source": [
        "### Word Embeddings with Keras Functions API"
      ]
    },
    {
      "cell_type": "markdown",
      "metadata": {
        "id": "oVZlh-FLGFxL",
        "colab_type": "text"
      },
      "source": [
        "\n",
        "\n",
        "*   In this section, we will see how we can implement embedding layer with Keras Functional API.\n",
        "*  The rest of the script remains similar as it was in the last section. The only change will be in the development of a deep learning model. Let's implement the same deep learning model as we implemented in the last section with Keras Functional API.\n",
        "\n"
      ]
    },
    {
      "cell_type": "code",
      "metadata": {
        "id": "7X58xAnHpuxp",
        "colab_type": "code",
        "colab": {}
      },
      "source": [
        "corpus = [\n",
        "    # Positive Reviews\n",
        "\n",
        "    'This is an excellent movie',\n",
        "    'The move was fantastic I like it',\n",
        "    'You should watch it is brilliant',\n",
        "    'Exceptionally good',\n",
        "    'Wonderfully directed and executed I like it',\n",
        "    'Its a fantastic series',\n",
        "    'Never watched such a brillent movie',\n",
        "    'It is a Wonderful movie',\n",
        "\n",
        "    # Negtive Reviews\n",
        "\n",
        "    \"horrible acting\",\n",
        "    'waste of money',\n",
        "    'pathetic picture',\n",
        "    'It was very boring',\n",
        "    'I did not like the movie',\n",
        "    'The movie was horrible',\n",
        "    'I will not recommend',\n",
        "    'The acting is pathetic'\n",
        "]"
      ],
      "execution_count": 0,
      "outputs": []
    },
    {
      "cell_type": "code",
      "metadata": {
        "id": "v1HlNXHaGmPe",
        "colab_type": "code",
        "colab": {}
      },
      "source": [
        "sentiments = array([1,1,1,1,1,1,1,1,0,0,0,0,0,0,0,0])"
      ],
      "execution_count": 0,
      "outputs": []
    },
    {
      "cell_type": "code",
      "metadata": {
        "id": "Ld2OAOYwGnl8",
        "colab_type": "code",
        "colab": {}
      },
      "source": [
        "from keras.preprocessing.text import Tokenizer"
      ],
      "execution_count": 0,
      "outputs": []
    },
    {
      "cell_type": "code",
      "metadata": {
        "id": "0b0Fe6teGwzA",
        "colab_type": "code",
        "colab": {
          "base_uri": "https://localhost:8080/",
          "height": 294
        },
        "outputId": "55ca63f0-d33c-4947-f3b1-e16166e759dd"
      },
      "source": [
        "word_tokenizer = Tokenizer()\n",
        "word_tokenizer.fit_on_texts(corpus)\n",
        "corpus"
      ],
      "execution_count": 5,
      "outputs": [
        {
          "output_type": "execute_result",
          "data": {
            "text/plain": [
              "['This is an excellent movie',\n",
              " 'The move was fantastic I like it',\n",
              " 'You should watch it is brilliant',\n",
              " 'Exceptionally good',\n",
              " 'Wonderfully directed and executed I like it',\n",
              " 'Its a fantastic series',\n",
              " 'Never watched such a brillent movie',\n",
              " 'It is a Wonderful movie',\n",
              " 'horrible acting',\n",
              " 'waste of money',\n",
              " 'pathetic picture',\n",
              " 'It was very boring',\n",
              " 'I did not like the movie',\n",
              " 'The movie was horrible',\n",
              " 'I will not recommend',\n",
              " 'The acting is pathetic']"
            ]
          },
          "metadata": {
            "tags": []
          },
          "execution_count": 5
        }
      ]
    },
    {
      "cell_type": "code",
      "metadata": {
        "id": "Cq4q5tY5G6uL",
        "colab_type": "code",
        "colab": {
          "base_uri": "https://localhost:8080/",
          "height": 35
        },
        "outputId": "0c8b5ebe-98a8-4dbf-a58d-c2692c36c519"
      },
      "source": [
        "vocab_length = len(word_tokenizer.word_index) + 1\n",
        "vocab_length"
      ],
      "execution_count": 6,
      "outputs": [
        {
          "output_type": "execute_result",
          "data": {
            "text/plain": [
              "44"
            ]
          },
          "metadata": {
            "tags": []
          },
          "execution_count": 6
        }
      ]
    },
    {
      "cell_type": "code",
      "metadata": {
        "id": "yzRhL0R7HDcM",
        "colab_type": "code",
        "colab": {
          "base_uri": "https://localhost:8080/",
          "height": 294
        },
        "outputId": "065c8530-cd8f-4aed-afae-4eb70e2c80a8"
      },
      "source": [
        "embedded_sentences = word_tokenizer.texts_to_sequences(corpus)\n",
        "embedded_sentences"
      ],
      "execution_count": 7,
      "outputs": [
        {
          "output_type": "execute_result",
          "data": {
            "text/plain": [
              "[[14, 3, 15, 16, 1],\n",
              " [4, 17, 6, 9, 5, 7, 2],\n",
              " [18, 19, 20, 2, 3, 21],\n",
              " [22, 23],\n",
              " [24, 25, 26, 27, 5, 7, 2],\n",
              " [28, 8, 9, 29],\n",
              " [30, 31, 32, 8, 33, 1],\n",
              " [2, 3, 8, 34, 1],\n",
              " [10, 11],\n",
              " [35, 36, 37],\n",
              " [12, 38],\n",
              " [2, 6, 39, 40],\n",
              " [5, 41, 13, 7, 4, 1],\n",
              " [4, 1, 6, 10],\n",
              " [5, 42, 13, 43],\n",
              " [4, 11, 3, 12]]"
            ]
          },
          "metadata": {
            "tags": []
          },
          "execution_count": 7
        }
      ]
    },
    {
      "cell_type": "code",
      "metadata": {
        "id": "rxNGah1DHOkl",
        "colab_type": "code",
        "colab": {
          "base_uri": "https://localhost:8080/",
          "height": 294
        },
        "outputId": "e78388b4-3a09-4f0f-d840-2ba57317ebc6"
      },
      "source": [
        "from nltk.tokenize import word_tokenize\n",
        "\n",
        "word_count = lambda sentence: len(word_tokenize(sentence))\n",
        "longest_sentence = max(corpus, key = word_count)\n",
        "length_long_sentence = len(word_tokenize(longest_sentence))\n",
        "\n",
        "padded_sentence = pad_sequences(embedded_sentences, length_long_sentence, padding='post')\n",
        "\n",
        "padded_sentence"
      ],
      "execution_count": 10,
      "outputs": [
        {
          "output_type": "execute_result",
          "data": {
            "text/plain": [
              "array([[14,  3, 15, 16,  1,  0,  0],\n",
              "       [ 4, 17,  6,  9,  5,  7,  2],\n",
              "       [18, 19, 20,  2,  3, 21,  0],\n",
              "       [22, 23,  0,  0,  0,  0,  0],\n",
              "       [24, 25, 26, 27,  5,  7,  2],\n",
              "       [28,  8,  9, 29,  0,  0,  0],\n",
              "       [30, 31, 32,  8, 33,  1,  0],\n",
              "       [ 2,  3,  8, 34,  1,  0,  0],\n",
              "       [10, 11,  0,  0,  0,  0,  0],\n",
              "       [35, 36, 37,  0,  0,  0,  0],\n",
              "       [12, 38,  0,  0,  0,  0,  0],\n",
              "       [ 2,  6, 39, 40,  0,  0,  0],\n",
              "       [ 5, 41, 13,  7,  4,  1,  0],\n",
              "       [ 4,  1,  6, 10,  0,  0,  0],\n",
              "       [ 5, 42, 13, 43,  0,  0,  0],\n",
              "       [ 4, 11,  3, 12,  0,  0,  0]], dtype=int32)"
            ]
          },
          "metadata": {
            "tags": []
          },
          "execution_count": 10
        }
      ]
    },
    {
      "cell_type": "code",
      "metadata": {
        "id": "m5duO6QxHXnt",
        "colab_type": "code",
        "colab": {}
      },
      "source": [
        "from numpy import array\n",
        "from numpy import asarray\n",
        "from numpy import zeros\n",
        "\n",
        "embeddings_dictionary =dict()\n",
        "glove_file = open('/content/drive/My Drive/glove.6B.100d.txt', encoding='utf8')"
      ],
      "execution_count": 0,
      "outputs": []
    },
    {
      "cell_type": "code",
      "metadata": {
        "id": "rwYDEsKxHprt",
        "colab_type": "code",
        "colab": {}
      },
      "source": [
        "for line in glove_file:\n",
        "    records = line.split()\n",
        "    word = records[0]\n",
        "    vector_dimensions = asarray(records[1:], dtype='float32')\n",
        "    embeddings_dictionary [word] = vector_dimensions\n",
        "\n",
        "glove_file.close()"
      ],
      "execution_count": 0,
      "outputs": []
    },
    {
      "cell_type": "code",
      "metadata": {
        "id": "0AWFRlXqIBtf",
        "colab_type": "code",
        "colab": {}
      },
      "source": [
        "embedding_matrix = zeros((vocab_length, 100))\n",
        "for word, index in word_tokenizer.word_index.items():\n",
        "    embedding_vector = embeddings_dictionary.get(word)\n",
        "    if embedding_vector is not None:\n",
        "        embedding_matrix[index] = embedding_vector"
      ],
      "execution_count": 0,
      "outputs": []
    },
    {
      "cell_type": "code",
      "metadata": {
        "id": "zRLIq2GAIKz3",
        "colab_type": "code",
        "colab": {}
      },
      "source": [
        "from keras.models import Model\n",
        "from keras.layers import Input\n",
        "\n",
        "deep_inputs = Input(shape=(length_long_sentence,))\n",
        "embedding = Embedding(vocab_length, 100, weights=[embedding_matrix], input_length=length_long_sentence, trainable=False)(deep_inputs) # line A\n",
        "flatten = Flatten()(embedding)\n",
        "hidden = Dense(1, activation='sigmoid')(flatten)\n",
        "model = Model(inputs=deep_inputs, outputs=hidden)"
      ],
      "execution_count": 0,
      "outputs": []
    },
    {
      "cell_type": "markdown",
      "metadata": {
        "id": "fue_gzVHIpir",
        "colab_type": "text"
      },
      "source": [
        "\n",
        "\n",
        "*   In the Keras Functional API, you have to define the input layer separately before the embedding layer. In the input, layer you have to simply pass the length of input vector. To specify that previous layer as input to the next layer, the previous layer is passed as a parameter inside the parenthesis, at the end of the next layer.\n",
        "\n",
        "\n",
        "*   For instance, in the above script, you can see that deep_inputs is passed as parameter at the end of the embedding layer. Similarly, embedding is passed as input at the end of the Flatten() layer and so on.\n",
        "\n",
        "Finally, in the Model(), you have to pass the input layer, and the final output layer.\n",
        "\n"
      ]
    },
    {
      "cell_type": "code",
      "metadata": {
        "id": "XMy6TVzPIRMC",
        "colab_type": "code",
        "colab": {
          "base_uri": "https://localhost:8080/",
          "height": 311
        },
        "outputId": "c8f43c63-c214-42d0-a5c9-55387e75b566"
      },
      "source": [
        "model.compile(optimizer='adam', loss='binary_crossentropy', metrics=['acc'])\n",
        "print(model.summary())"
      ],
      "execution_count": 20,
      "outputs": [
        {
          "output_type": "stream",
          "text": [
            "Model: \"model_1\"\n",
            "_________________________________________________________________\n",
            "Layer (type)                 Output Shape              Param #   \n",
            "=================================================================\n",
            "input_1 (InputLayer)         (None, 7)                 0         \n",
            "_________________________________________________________________\n",
            "embedding_1 (Embedding)      (None, 7, 100)            4400      \n",
            "_________________________________________________________________\n",
            "flatten_1 (Flatten)          (None, 700)               0         \n",
            "_________________________________________________________________\n",
            "dense_1 (Dense)              (None, 1)                 701       \n",
            "=================================================================\n",
            "Total params: 5,101\n",
            "Trainable params: 701\n",
            "Non-trainable params: 4,400\n",
            "_________________________________________________________________\n",
            "None\n"
          ],
          "name": "stdout"
        }
      ]
    },
    {
      "cell_type": "code",
      "metadata": {
        "id": "WWbJJ90OJM6I",
        "colab_type": "code",
        "colab": {
          "base_uri": "https://localhost:8080/",
          "height": 1000
        },
        "outputId": "8337e701-a190-4d8f-caff-30fa0c76b0b9"
      },
      "source": [
        "model.fit(padded_sentence, sentiments, epochs=100, verbose=1)\n",
        "loss, accuracy = model.evaluate(padded_sentence, sentiments,verbose=0)\n",
        "print('Accuracy: %f' % (accuracy*100))"
      ],
      "execution_count": 21,
      "outputs": [
        {
          "output_type": "stream",
          "text": [
            "WARNING:tensorflow:From /usr/local/lib/python3.6/dist-packages/keras/backend/tensorflow_backend.py:1033: The name tf.assign_add is deprecated. Please use tf.compat.v1.assign_add instead.\n",
            "\n",
            "WARNING:tensorflow:From /usr/local/lib/python3.6/dist-packages/keras/backend/tensorflow_backend.py:1020: The name tf.assign is deprecated. Please use tf.compat.v1.assign instead.\n",
            "\n",
            "Epoch 1/100\n",
            "16/16 [==============================] - 0s 24ms/step - loss: 0.7862 - acc: 0.3125\n",
            "Epoch 2/100\n",
            "16/16 [==============================] - 0s 142us/step - loss: 0.7563 - acc: 0.3125\n",
            "Epoch 3/100\n",
            "16/16 [==============================] - 0s 132us/step - loss: 0.7277 - acc: 0.3750\n",
            "Epoch 4/100\n",
            "16/16 [==============================] - 0s 290us/step - loss: 0.7002 - acc: 0.4375\n",
            "Epoch 5/100\n",
            "16/16 [==============================] - 0s 127us/step - loss: 0.6740 - acc: 0.5625\n",
            "Epoch 6/100\n",
            "16/16 [==============================] - 0s 311us/step - loss: 0.6490 - acc: 0.6250\n",
            "Epoch 7/100\n",
            "16/16 [==============================] - 0s 137us/step - loss: 0.6252 - acc: 0.7500\n",
            "Epoch 8/100\n",
            "16/16 [==============================] - 0s 177us/step - loss: 0.6025 - acc: 0.7500\n",
            "Epoch 9/100\n",
            "16/16 [==============================] - 0s 141us/step - loss: 0.5810 - acc: 0.7500\n",
            "Epoch 10/100\n",
            "16/16 [==============================] - 0s 163us/step - loss: 0.5604 - acc: 0.7500\n",
            "Epoch 11/100\n",
            "16/16 [==============================] - 0s 123us/step - loss: 0.5409 - acc: 0.8125\n",
            "Epoch 12/100\n",
            "16/16 [==============================] - 0s 125us/step - loss: 0.5223 - acc: 0.8125\n",
            "Epoch 13/100\n",
            "16/16 [==============================] - 0s 124us/step - loss: 0.5045 - acc: 0.8750\n",
            "Epoch 14/100\n",
            "16/16 [==============================] - 0s 98us/step - loss: 0.4875 - acc: 0.8750\n",
            "Epoch 15/100\n",
            "16/16 [==============================] - 0s 200us/step - loss: 0.4713 - acc: 0.8750\n",
            "Epoch 16/100\n",
            "16/16 [==============================] - 0s 98us/step - loss: 0.4558 - acc: 0.8750\n",
            "Epoch 17/100\n",
            "16/16 [==============================] - 0s 83us/step - loss: 0.4410 - acc: 0.9375\n",
            "Epoch 18/100\n",
            "16/16 [==============================] - 0s 117us/step - loss: 0.4268 - acc: 1.0000\n",
            "Epoch 19/100\n",
            "16/16 [==============================] - 0s 156us/step - loss: 0.4132 - acc: 1.0000\n",
            "Epoch 20/100\n",
            "16/16 [==============================] - 0s 87us/step - loss: 0.4002 - acc: 1.0000\n",
            "Epoch 21/100\n",
            "16/16 [==============================] - 0s 423us/step - loss: 0.3877 - acc: 1.0000\n",
            "Epoch 22/100\n",
            "16/16 [==============================] - 0s 107us/step - loss: 0.3758 - acc: 1.0000\n",
            "Epoch 23/100\n",
            "16/16 [==============================] - 0s 87us/step - loss: 0.3643 - acc: 1.0000\n",
            "Epoch 24/100\n",
            "16/16 [==============================] - 0s 226us/step - loss: 0.3533 - acc: 1.0000\n",
            "Epoch 25/100\n",
            "16/16 [==============================] - 0s 230us/step - loss: 0.3428 - acc: 1.0000\n",
            "Epoch 26/100\n",
            "16/16 [==============================] - 0s 93us/step - loss: 0.3327 - acc: 1.0000\n",
            "Epoch 27/100\n",
            "16/16 [==============================] - 0s 106us/step - loss: 0.3230 - acc: 1.0000\n",
            "Epoch 28/100\n",
            "16/16 [==============================] - 0s 93us/step - loss: 0.3137 - acc: 1.0000\n",
            "Epoch 29/100\n",
            "16/16 [==============================] - 0s 199us/step - loss: 0.3048 - acc: 1.0000\n",
            "Epoch 30/100\n",
            "16/16 [==============================] - 0s 127us/step - loss: 0.2962 - acc: 1.0000\n",
            "Epoch 31/100\n",
            "16/16 [==============================] - 0s 123us/step - loss: 0.2879 - acc: 1.0000\n",
            "Epoch 32/100\n",
            "16/16 [==============================] - 0s 95us/step - loss: 0.2800 - acc: 1.0000\n",
            "Epoch 33/100\n",
            "16/16 [==============================] - 0s 109us/step - loss: 0.2724 - acc: 1.0000\n",
            "Epoch 34/100\n",
            "16/16 [==============================] - 0s 93us/step - loss: 0.2651 - acc: 1.0000\n",
            "Epoch 35/100\n",
            "16/16 [==============================] - 0s 97us/step - loss: 0.2580 - acc: 1.0000\n",
            "Epoch 36/100\n",
            "16/16 [==============================] - 0s 91us/step - loss: 0.2513 - acc: 1.0000\n",
            "Epoch 37/100\n",
            "16/16 [==============================] - 0s 112us/step - loss: 0.2447 - acc: 1.0000\n",
            "Epoch 38/100\n",
            "16/16 [==============================] - 0s 101us/step - loss: 0.2384 - acc: 1.0000\n",
            "Epoch 39/100\n",
            "16/16 [==============================] - 0s 158us/step - loss: 0.2324 - acc: 1.0000\n",
            "Epoch 40/100\n",
            "16/16 [==============================] - 0s 105us/step - loss: 0.2266 - acc: 1.0000\n",
            "Epoch 41/100\n",
            "16/16 [==============================] - 0s 138us/step - loss: 0.2210 - acc: 1.0000\n",
            "Epoch 42/100\n",
            "16/16 [==============================] - 0s 105us/step - loss: 0.2156 - acc: 1.0000\n",
            "Epoch 43/100\n",
            "16/16 [==============================] - 0s 89us/step - loss: 0.2104 - acc: 1.0000\n",
            "Epoch 44/100\n",
            "16/16 [==============================] - 0s 141us/step - loss: 0.2053 - acc: 1.0000\n",
            "Epoch 45/100\n",
            "16/16 [==============================] - 0s 106us/step - loss: 0.2005 - acc: 1.0000\n",
            "Epoch 46/100\n",
            "16/16 [==============================] - 0s 136us/step - loss: 0.1958 - acc: 1.0000\n",
            "Epoch 47/100\n",
            "16/16 [==============================] - 0s 97us/step - loss: 0.1913 - acc: 1.0000\n",
            "Epoch 48/100\n",
            "16/16 [==============================] - 0s 105us/step - loss: 0.1870 - acc: 1.0000\n",
            "Epoch 49/100\n",
            "16/16 [==============================] - 0s 263us/step - loss: 0.1828 - acc: 1.0000\n",
            "Epoch 50/100\n",
            "16/16 [==============================] - 0s 153us/step - loss: 0.1787 - acc: 1.0000\n",
            "Epoch 51/100\n",
            "16/16 [==============================] - 0s 161us/step - loss: 0.1748 - acc: 1.0000\n",
            "Epoch 52/100\n",
            "16/16 [==============================] - 0s 151us/step - loss: 0.1710 - acc: 1.0000\n",
            "Epoch 53/100\n",
            "16/16 [==============================] - 0s 168us/step - loss: 0.1674 - acc: 1.0000\n",
            "Epoch 54/100\n",
            "16/16 [==============================] - 0s 134us/step - loss: 0.1638 - acc: 1.0000\n",
            "Epoch 55/100\n",
            "16/16 [==============================] - 0s 190us/step - loss: 0.1604 - acc: 1.0000\n",
            "Epoch 56/100\n",
            "16/16 [==============================] - 0s 155us/step - loss: 0.1571 - acc: 1.0000\n",
            "Epoch 57/100\n",
            "16/16 [==============================] - 0s 187us/step - loss: 0.1539 - acc: 1.0000\n",
            "Epoch 58/100\n",
            "16/16 [==============================] - 0s 178us/step - loss: 0.1508 - acc: 1.0000\n",
            "Epoch 59/100\n",
            "16/16 [==============================] - 0s 178us/step - loss: 0.1478 - acc: 1.0000\n",
            "Epoch 60/100\n",
            "16/16 [==============================] - 0s 137us/step - loss: 0.1449 - acc: 1.0000\n",
            "Epoch 61/100\n",
            "16/16 [==============================] - 0s 142us/step - loss: 0.1421 - acc: 1.0000\n",
            "Epoch 62/100\n",
            "16/16 [==============================] - 0s 126us/step - loss: 0.1394 - acc: 1.0000\n",
            "Epoch 63/100\n",
            "16/16 [==============================] - 0s 147us/step - loss: 0.1368 - acc: 1.0000\n",
            "Epoch 64/100\n",
            "16/16 [==============================] - 0s 151us/step - loss: 0.1342 - acc: 1.0000\n",
            "Epoch 65/100\n",
            "16/16 [==============================] - 0s 149us/step - loss: 0.1317 - acc: 1.0000\n",
            "Epoch 66/100\n",
            "16/16 [==============================] - 0s 133us/step - loss: 0.1293 - acc: 1.0000\n",
            "Epoch 67/100\n",
            "16/16 [==============================] - 0s 137us/step - loss: 0.1270 - acc: 1.0000\n",
            "Epoch 68/100\n",
            "16/16 [==============================] - 0s 135us/step - loss: 0.1247 - acc: 1.0000\n",
            "Epoch 69/100\n",
            "16/16 [==============================] - 0s 131us/step - loss: 0.1225 - acc: 1.0000\n",
            "Epoch 70/100\n",
            "16/16 [==============================] - 0s 167us/step - loss: 0.1204 - acc: 1.0000\n",
            "Epoch 71/100\n",
            "16/16 [==============================] - 0s 193us/step - loss: 0.1183 - acc: 1.0000\n",
            "Epoch 72/100\n",
            "16/16 [==============================] - 0s 124us/step - loss: 0.1163 - acc: 1.0000\n",
            "Epoch 73/100\n",
            "16/16 [==============================] - 0s 112us/step - loss: 0.1143 - acc: 1.0000\n",
            "Epoch 74/100\n",
            "16/16 [==============================] - 0s 107us/step - loss: 0.1124 - acc: 1.0000\n",
            "Epoch 75/100\n",
            "16/16 [==============================] - 0s 126us/step - loss: 0.1105 - acc: 1.0000\n",
            "Epoch 76/100\n",
            "16/16 [==============================] - 0s 115us/step - loss: 0.1087 - acc: 1.0000\n",
            "Epoch 77/100\n",
            "16/16 [==============================] - 0s 109us/step - loss: 0.1070 - acc: 1.0000\n",
            "Epoch 78/100\n",
            "16/16 [==============================] - 0s 109us/step - loss: 0.1052 - acc: 1.0000\n",
            "Epoch 79/100\n",
            "16/16 [==============================] - 0s 152us/step - loss: 0.1036 - acc: 1.0000\n",
            "Epoch 80/100\n",
            "16/16 [==============================] - 0s 142us/step - loss: 0.1019 - acc: 1.0000\n",
            "Epoch 81/100\n",
            "16/16 [==============================] - 0s 164us/step - loss: 0.1004 - acc: 1.0000\n",
            "Epoch 82/100\n",
            "16/16 [==============================] - 0s 197us/step - loss: 0.0988 - acc: 1.0000\n",
            "Epoch 83/100\n",
            "16/16 [==============================] - 0s 166us/step - loss: 0.0973 - acc: 1.0000\n",
            "Epoch 84/100\n",
            "16/16 [==============================] - 0s 153us/step - loss: 0.0958 - acc: 1.0000\n",
            "Epoch 85/100\n",
            "16/16 [==============================] - 0s 149us/step - loss: 0.0944 - acc: 1.0000\n",
            "Epoch 86/100\n",
            "16/16 [==============================] - 0s 141us/step - loss: 0.0930 - acc: 1.0000\n",
            "Epoch 87/100\n",
            "16/16 [==============================] - 0s 124us/step - loss: 0.0916 - acc: 1.0000\n",
            "Epoch 88/100\n",
            "16/16 [==============================] - 0s 131us/step - loss: 0.0903 - acc: 1.0000\n",
            "Epoch 89/100\n",
            "16/16 [==============================] - 0s 127us/step - loss: 0.0890 - acc: 1.0000\n",
            "Epoch 90/100\n",
            "16/16 [==============================] - 0s 124us/step - loss: 0.0877 - acc: 1.0000\n",
            "Epoch 91/100\n",
            "16/16 [==============================] - 0s 153us/step - loss: 0.0865 - acc: 1.0000\n",
            "Epoch 92/100\n",
            "16/16 [==============================] - 0s 140us/step - loss: 0.0853 - acc: 1.0000\n",
            "Epoch 93/100\n",
            "16/16 [==============================] - 0s 141us/step - loss: 0.0841 - acc: 1.0000\n",
            "Epoch 94/100\n",
            "16/16 [==============================] - 0s 108us/step - loss: 0.0829 - acc: 1.0000\n",
            "Epoch 95/100\n",
            "16/16 [==============================] - 0s 121us/step - loss: 0.0818 - acc: 1.0000\n",
            "Epoch 96/100\n",
            "16/16 [==============================] - 0s 171us/step - loss: 0.0807 - acc: 1.0000\n",
            "Epoch 97/100\n",
            "16/16 [==============================] - 0s 208us/step - loss: 0.0796 - acc: 1.0000\n",
            "Epoch 98/100\n",
            "16/16 [==============================] - 0s 180us/step - loss: 0.0786 - acc: 1.0000\n",
            "Epoch 99/100\n",
            "16/16 [==============================] - 0s 180us/step - loss: 0.0775 - acc: 1.0000\n",
            "Epoch 100/100\n",
            "16/16 [==============================] - 0s 134us/step - loss: 0.0765 - acc: 1.0000\n",
            "Accuracy: 100.000000\n"
          ],
          "name": "stdout"
        }
      ]
    },
    {
      "cell_type": "code",
      "metadata": {
        "id": "jhKK5zHNKEQl",
        "colab_type": "code",
        "colab": {}
      },
      "source": [
        ""
      ],
      "execution_count": 0,
      "outputs": []
    }
  ]
}