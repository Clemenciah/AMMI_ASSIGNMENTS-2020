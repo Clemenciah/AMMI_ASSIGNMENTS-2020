{
 "cells": [
  {
   "cell_type": "code",
   "execution_count": 95,
   "metadata": {},
   "outputs": [],
   "source": [
    "import pandas as pd\n",
    "import numpy as np\n",
    "import matplotlib.pyplot as plt"
   ]
  },
  {
   "cell_type": "code",
   "execution_count": 96,
   "metadata": {},
   "outputs": [],
   "source": [
    "Xtr = pd.read_csv('Xtr.csv')\n",
    "Ytr = pd.read_csv('Ytr.csv')\n",
    "Xte = pd.read_csv('Xte.csv')"
   ]
  },
  {
   "cell_type": "code",
   "execution_count": 97,
   "metadata": {},
   "outputs": [
    {
     "data": {
      "text/plain": [
       "(2000, 2)"
      ]
     },
     "execution_count": 97,
     "metadata": {},
     "output_type": "execute_result"
    }
   ],
   "source": [
    "# Printimg type of data\n",
    "Xtr.shape"
   ]
  },
  {
   "cell_type": "code",
   "execution_count": 98,
   "metadata": {},
   "outputs": [
    {
     "data": {
      "text/html": [
       "<div>\n",
       "<style scoped>\n",
       "    .dataframe tbody tr th:only-of-type {\n",
       "        vertical-align: middle;\n",
       "    }\n",
       "\n",
       "    .dataframe tbody tr th {\n",
       "        vertical-align: top;\n",
       "    }\n",
       "\n",
       "    .dataframe thead th {\n",
       "        text-align: right;\n",
       "    }\n",
       "</style>\n",
       "<table border=\"1\" class=\"dataframe\">\n",
       "  <thead>\n",
       "    <tr style=\"text-align: right;\">\n",
       "      <th></th>\n",
       "      <th>Id</th>\n",
       "      <th>Bound</th>\n",
       "    </tr>\n",
       "  </thead>\n",
       "  <tbody>\n",
       "    <tr>\n",
       "      <th>0</th>\n",
       "      <td>0</td>\n",
       "      <td>1</td>\n",
       "    </tr>\n",
       "    <tr>\n",
       "      <th>1</th>\n",
       "      <td>1</td>\n",
       "      <td>0</td>\n",
       "    </tr>\n",
       "    <tr>\n",
       "      <th>2</th>\n",
       "      <td>2</td>\n",
       "      <td>1</td>\n",
       "    </tr>\n",
       "    <tr>\n",
       "      <th>3</th>\n",
       "      <td>3</td>\n",
       "      <td>0</td>\n",
       "    </tr>\n",
       "    <tr>\n",
       "      <th>4</th>\n",
       "      <td>4</td>\n",
       "      <td>1</td>\n",
       "    </tr>\n",
       "  </tbody>\n",
       "</table>\n",
       "</div>"
      ],
      "text/plain": [
       "   Id  Bound\n",
       "0   0      1\n",
       "1   1      0\n",
       "2   2      1\n",
       "3   3      0\n",
       "4   4      1"
      ]
     },
     "execution_count": 98,
     "metadata": {},
     "output_type": "execute_result"
    }
   ],
   "source": [
    "Ytr.head()"
   ]
  },
  {
   "cell_type": "code",
   "execution_count": 99,
   "metadata": {},
   "outputs": [],
   "source": [
    "# Reading data in vector form\n",
    "Xtr_mat100 = pd.read_csv( 'Xtr_mat100.csv', header=None, sep=' ')\n",
    "Xte_mat100 = pd.read_csv( 'Xte_mat100.csv', header=None, sep=' ')"
   ]
  },
  {
   "cell_type": "code",
   "execution_count": 100,
   "metadata": {},
   "outputs": [],
   "source": [
    "#Encode the sequence to vectors\n",
    "\n",
    "Word_length = 7\n",
    "base = {'A':0, 'C':1, 'T':2, 'G':3}\n",
    "index_size = 4**Word_length\n",
    "\n",
    "\n",
    "def word_to_index(word):\n",
    "    index = 0\n",
    "    for i, carac in enumerate(word):\n",
    "        index += base[carac] * (4 ** i)\n",
    "    return index\n",
    "\n",
    "def encode_sequence(seq, word_len=Word_length):\n",
    "    encoded = np.zeros(index_size)\n",
    "    for i in range(len(seq) - word_len+1):\n",
    "        word = seq[i:(i+word_len)]\n",
    "        index = word_to_index(word)\n",
    "        encoded[index] += 1\n",
    "    return encoded\n",
    "\n",
    "def bags_of_word_transform(data_column, word_len):\n",
    "    encoded_column = data_column.apply(encode_sequence, word_len=Word_length)\n",
    "    encoded_column = np.stack(encoded_column)\n",
    "    return encoded_column\n",
    "\n"
   ]
  },
  {
   "cell_type": "code",
   "execution_count": 163,
   "metadata": {},
   "outputs": [
    {
     "data": {
      "text/plain": [
       "array([[0., 0., 0., ..., 0., 0., 0.],\n",
       "       [0., 0., 0., ..., 0., 0., 0.],\n",
       "       [0., 0., 0., ..., 0., 0., 0.],\n",
       "       ...,\n",
       "       [0., 0., 0., ..., 0., 0., 0.],\n",
       "       [0., 0., 0., ..., 0., 0., 0.],\n",
       "       [0., 0., 0., ..., 0., 0., 0.]])"
      ]
     },
     "execution_count": 163,
     "metadata": {},
     "output_type": "execute_result"
    }
   ],
   "source": [
    "Xtr_encode = bags_of_word_transform(Xtr.seq, word_len=7)\n",
    "Xtr_encode"
   ]
  },
  {
   "cell_type": "code",
   "execution_count": 168,
   "metadata": {},
   "outputs": [
    {
     "name": "stdout",
     "output_type": "stream",
     "text": [
      "X_train_encoded (2000, 16384)\n",
      "max: 15.0, mean: 0.00579833984375\n",
      "non zeros: 32581343, zeros: 186657,\n",
      "ratio: 0.005696319580078125\n"
     ]
    }
   ],
   "source": [
    "X_train_encoded = Xtr.seq.apply(encode_sequence)\n",
    "X_train_encoded = np.stack(X_train_encoded)\n",
    "print('X_train_encoded', Xtr_encoded.shape)\n",
    "print('max: {}, mean: {}'.format(X_train_encoded.max(), X_train_encoded.mean()))\n",
    "print('non zeros: {}, zeros: {},'.format(np.sum(X_train_encoded==0), np.sum(X_train_encoded!=0)))\n",
    "print('ratio: {}'.format(np.sum(X_train_encoded!=0)/(X_train_encoded.shape[0]*X_train_encoded.shape[1])))"
   ]
  },
  {
   "cell_type": "code",
   "execution_count": 104,
   "metadata": {},
   "outputs": [
    {
     "data": {
      "image/png": "[encoded data removed]",
      "text/plain": [
       "<Figure size 432x288 with 1 Axes>"
      ]
     },
     "metadata": {
      "needs_background": "light"
     },
     "output_type": "display_data"
    }
   ],
   "source": [
    "# Visualize the sequence data\n",
    "from collections import Counter\n",
    "\n",
    "from matplotlib import pyplot as plt\n",
    "idx = np.arange(2)\n",
    "typ_ = [i for i in Counter(Ytr.Bound).keys()]\n",
    "freq_ = [i for i in Counter(Ytr.Bound).values()]\n",
    "plt.bar(idx,freq_,color=[\"red\",\"blue\"])\n",
    "plt.xticks(idx,[\"Bounded\",\"Unbounded\"])\n",
    "plt.show()"
   ]
  },
  {
   "cell_type": "code",
   "execution_count": 165,
   "metadata": {},
   "outputs": [
    {
     "data": {
      "text/plain": [
       "Counter({1: 998, 0: 1002})"
      ]
     },
     "execution_count": 165,
     "metadata": {},
     "output_type": "execute_result"
    }
   ],
   "source": [
    "Counter(Ytr.Bound)"
   ]
  },
  {
   "cell_type": "code",
   "execution_count": 166,
   "metadata": {},
   "outputs": [],
   "source": [
    "Ytr1 = Ytr.Bound.values.copy()\n",
    "Ytr1[Ytr1 ==0]=-1"
   ]
  },
  {
   "cell_type": "code",
   "execution_count": 169,
   "metadata": {},
   "outputs": [],
   "source": [
    "# Splitting the dataset into the training set and valid set\n",
    "from sklearn.model_selection import train_test_split\n",
    "X_train, X_val, y_train, y_val = train_test_split(X_train_encoded, \n",
    "                                                    Ytr1, \n",
    "                                                    test_size = 0.33, \n",
    "                                                    random_state=42)"
   ]
  },
  {
   "cell_type": "code",
   "execution_count": 108,
   "metadata": {},
   "outputs": [
    {
     "data": {
      "text/plain": [
       "((1340, 16384), (1340,), (660, 16384), (660,))"
      ]
     },
     "execution_count": 108,
     "metadata": {},
     "output_type": "execute_result"
    }
   ],
   "source": [
    "X_train.shape, y_train.shape, X_val.shape, y_val.shape"
   ]
  },
  {
   "cell_type": "code",
   "execution_count": 174,
   "metadata": {},
   "outputs": [
    {
     "data": {
      "text/plain": [
       "<matplotlib.collections.PathCollection at 0x7f30a1651390>"
      ]
     },
     "execution_count": 174,
     "metadata": {},
     "output_type": "execute_result"
    },
    {
     "data": {
      "image/png": "[encoded data removed]",
      "text/plain": [
       "<Figure size 360x288 with 1 Axes>"
      ]
     },
     "metadata": {
      "needs_background": "light"
     },
     "output_type": "display_data"
    }
   ],
   "source": [
    "from sklearn.manifold import TSNE\n",
    "from sklearn.decomposition import PCA\n",
    "\n",
    "X_embeding = PCA(n_components=2).fit_transform(X_train)\n",
    "#embeding\n",
    "#X_embeding = TSNE(n_components=2).fit_transform(X_train, y_train)\n",
    "Valid_embeding = TSNE(n_components=2).fit_transform(X_val, y_val)\n",
    "\n",
    "plt.figure(figsize=(5,4))\n",
    "plt.scatter(Valid_embeding[:, 0], Valid_embeding[:, 1], c=y_val)\n"
   ]
  },
  {
   "cell_type": "code",
   "execution_count": 173,
   "metadata": {},
   "outputs": [
    {
     "data": {
      "text/plain": [
       "<matplotlib.collections.PathCollection at 0x7f30c4aeda90>"
      ]
     },
     "execution_count": 173,
     "metadata": {},
     "output_type": "execute_result"
    },
    {
     "data": {
      "image/png": "[encoded data removed]",
      "text/plain": [
       "<Figure size 432x288 with 1 Axes>"
      ]
     },
     "metadata": {
      "needs_background": "light"
     },
     "output_type": "display_data"
    }
   ],
   "source": [
    "plt.scatter(X_embeding[:, 0], X_embeding[:, 1], c=y_train)\n"
   ]
  },
  {
   "cell_type": "code",
   "execution_count": 110,
   "metadata": {},
   "outputs": [],
   "source": [
    "def rbf_kernel(X1, X2, sigma=1):\n",
    "    '''\n",
    "    Returns the kernel matrix K(X1_i, X2_j): size (n1, n2)\n",
    "    where K is the RBF kernel with parameter sigma\n",
    "    \n",
    "    Input:\n",
    "    ------\n",
    "    X1: an (n1, p) matrix\n",
    "    X2: an (n2, p) matrix\n",
    "    sigma: float\n",
    "    '''\n",
    "    # Use matrix operations!\n",
    "    X2_norm = np.sum(X2 ** 2, axis = -1)\n",
    "    X1_norm = np.sum(X1 ** 2, axis = -1)\n",
    "    gamma = 1 / (2 * sigma ** 2)\n",
    "    K = np.exp(- gamma * (X1_norm[:, None] + X2_norm[None, :] - 2 * np.dot(X1, X2.T)))\n",
    "    return K\n",
    "\n",
    "def sigma_from_median(X):\n",
    "    '''\n",
    "    Returns the median of ||Xi-Xj||\n",
    "    \n",
    "    Input\n",
    "    -----\n",
    "    X: (n, p) matrix\n",
    "    '''\n",
    "    pairwise_diff = X[:, :, None] - X[:, :, None].T\n",
    "    pairwise_diff *= pairwise_diff\n",
    "    euclidean_dist = np.sqrt(pairwise_diff.sum(axis=1))\n",
    "    return np.median(euclidean_dist)\n",
    "\n",
    "\n",
    "def linear_kernel(X1, X2):\n",
    "    '''\n",
    "    Returns the kernel matrix K(X1_i, X2_j): size (n1, n2)\n",
    "    where K is the linear kernel\n",
    "    \n",
    "    Input:\n",
    "    ------\n",
    "    X1: an (n1, p) matrix\n",
    "    X2: an (n2, p) matrix\n",
    "    '''\n",
    "    return X1.dot(X2.T)\n",
    "\n",
    "def quadratic_kernel(X1, X2,power=2):\n",
    "    '''\n",
    "    Returns the kernel matrix K(X1_i, X2_j): size (n1, n2)\n",
    "    where K is the quadratic kernel\n",
    "    \n",
    "    Input:\n",
    "    ------\n",
    "    X1: an (n1, p) matrix\n",
    "    X2: an (n2, p) matrix\n",
    "    '''\n",
    "    return (1 + linear_kernel(X1, X2))**power "
   ]
  },
  {
   "cell_type": "code",
   "execution_count": null,
   "metadata": {},
   "outputs": [],
   "source": []
  },
  {
   "cell_type": "code",
   "execution_count": 175,
   "metadata": {},
   "outputs": [],
   "source": [
    "#Define Ridge Classifier\n",
    "\n",
    "kernel_dict  = {\n",
    "    'linear' : linear_kernel, \n",
    "    'rbf' : rbf_kernel,\n",
    "    'quadratic' : quadratic_kernel,\n",
    "    'spectrum' : SpectrumKernel\n",
    "}\n",
    "class RidgeClassifier():\n",
    "    def __init__(self, lamdb=0.01, kernel='rbf', **kernel_params):\n",
    "        # hyper parameter\n",
    "        self.lamdb = lamdb\n",
    "        self.kernel = kernel\n",
    "        self.kernel_params = kernel_params\n",
    "\n",
    "        # train parameter\n",
    "        self.beta = None\n",
    "        self.kernel_func = kernel_dict[kernel]\n",
    "\n",
    "    def fit(self, X, y):\n",
    "        #save train to be used for prediction\n",
    "        self.X_train = X\n",
    "        \n",
    "        #maximum likehood estimator\n",
    "        n, p = X.shape\n",
    "        I = np.eye(n)\n",
    "        A = self.kernel_func(X, X, **self.kernel_params) + self.lamdb  *n * I\n",
    "        self.beta = np.linalg.solve(A, y)\n",
    "\n",
    "    def predict(self, X):\n",
    "        output = self.kernel_func(X, self.X_train, **self.kernel_params) @ self.beta\n",
    "        y_pred = np.sign(output)\n",
    "\n",
    "        return y_pred\n",
    "    \n",
    "    def score(self, X, y):\n",
    "        pred = self.predict(X)\n",
    "        accuracy = np.mean(pred==y)\n",
    "        return accuracy\n",
    "    \n",
    "    \n",
    "    ### For sklearn compatibility\n",
    "    def get_params(self, deep=True):\n",
    "        return {'lamdb':self.lamdb, 'kernel': self.kernel, **self.kernel_params}\n",
    "\n",
    "    ### For sklearn compatibility\n",
    "    def set_params(self, **parameters):\n",
    "        for parameter, value in parameters.items():\n",
    "            setattr(self, parameter, value)\n",
    "        return self"
   ]
  },
  {
   "cell_type": "code",
   "execution_count": 112,
   "metadata": {},
   "outputs": [],
   "source": []
  },
  {
   "cell_type": "code",
   "execution_count": 160,
   "metadata": {},
   "outputs": [
    {
     "name": "stdout",
     "output_type": "stream",
     "text": [
      "0: lamdb=2.58e-02, sigma=9.17 mean_accuracy 54.55 - 5.46e-01\n",
      "1: lamdb=1.90e-04, sigma=8.25 mean_accuracy 66.27 - 6.63e-01\n",
      "2: lamdb=8.33e-03, sigma=9.00 mean_accuracy 66.27 - 6.63e-01\n",
      "3: lamdb=1.38e-04, sigma=7.55 mean_accuracy 66.12 - 6.61e-01\n",
      "4: lamdb=2.02e-02, sigma=8.44 mean_accuracy 58.58 - 5.86e-01\n",
      "5: lamdb=1.21e-02, sigma=5.27 mean_accuracy 54.55 - 5.46e-01\n",
      "6: lamdb=1.19e-04, sigma=6.14 mean_accuracy 66.79 - 6.68e-01\n",
      "7: lamdb=5.18e-02, sigma=8.18 mean_accuracy 52.09 - 5.21e-01\n",
      "8: lamdb=8.33e-08, sigma=5.37 mean_accuracy 66.64 - 6.66e-01\n",
      "9: lamdb=1.14e-07, sigma=5.08 mean_accuracy 66.42 - 6.64e-01\n",
      "10: lamdb=7.55e-06, sigma=8.55 mean_accuracy 65.90 - 6.59e-01\n",
      "11: lamdb=6.73e-09, sigma=5.00 mean_accuracy 66.27 - 6.63e-01\n",
      "12: lamdb=2.20e-03, sigma=7.06 mean_accuracy 66.49 - 6.65e-01\n",
      "13: lamdb=2.48e-05, sigma=9.89 mean_accuracy 65.97 - 6.60e-01\n",
      "14: lamdb=2.70e-02, sigma=7.84 mean_accuracy 53.73 - 5.37e-01\n",
      "15: lamdb=8.03e-06, sigma=8.86 mean_accuracy 66.04 - 6.60e-01\n",
      "16: lamdb=5.42e-03, sigma=6.93 mean_accuracy 66.34 - 6.63e-01\n",
      "17: lamdb=8.81e-09, sigma=8.70 mean_accuracy 66.12 - 6.61e-01\n",
      "18: lamdb=8.14e-10, sigma=5.32 mean_accuracy 66.79 - 6.68e-01\n",
      "19: lamdb=8.47e-08, sigma=6.07 mean_accuracy 66.64 - 6.66e-01\n",
      "20: lamdb=8.51e-04, sigma=7.30 mean_accuracy 66.04 - 6.60e-01\n",
      "21: lamdb=3.75e-10, sigma=8.20 mean_accuracy 66.04 - 6.60e-01\n",
      "22: lamdb=1.45e-06, sigma=8.23 mean_accuracy 66.04 - 6.60e-01\n",
      "23: lamdb=2.13e-03, sigma=6.42 mean_accuracy 66.57 - 6.66e-01\n",
      "24: lamdb=6.39e-04, sigma=8.80 mean_accuracy 66.72 - 6.67e-01\n",
      "25: lamdb=6.93e-02, sigma=5.58 mean_accuracy 51.42 - 5.14e-01\n",
      "26: lamdb=2.58e-04, sigma=5.52 mean_accuracy 66.64 - 6.66e-01\n",
      "27: lamdb=1.76e-07, sigma=8.45 mean_accuracy 65.97 - 6.60e-01\n",
      "28: lamdb=1.98e-07, sigma=9.01 mean_accuracy 66.27 - 6.63e-01\n",
      "29: lamdb=1.40e-05, sigma=9.81 mean_accuracy 66.04 - 6.60e-01\n"
     ]
    }
   ],
   "source": [
    "from sklearn.model_selection import cross_val_score\n",
    "def random_range(begin, end):\n",
    "    return (end-begin)*np.random.rand() + begin\n",
    "for i in range(30):\n",
    "    lamdb = 10**random_range(-10, -1)\n",
    "    #lamdb = 1.25e-08\n",
    "    sigma = random_range(5, 10)\n",
    "    #sigma = 6.08\n",
    "\n",
    "    clf = RidgeClassifier(kernel='rbf', lamdb=lamdb, sigma=sigma) #k = 4)#)\n",
    "\n",
    "    scores = cross_val_score(clf, X_train, y_train, cv=5)\n",
    "    mean_acc = scores.mean()\n",
    "    std_acc  = scores.mean()\n",
    "\n",
    "    \n",
    "    print(f'{i}: lamdb={lamdb:.02e}, sigma={sigma:.02f} mean_accuracy {100*mean_acc:.2f} - {std_acc:.02e}')"
   ]
  },
  {
   "cell_type": "code",
   "execution_count": 161,
   "metadata": {},
   "outputs": [
    {
     "data": {
      "text/plain": [
       "'Accuracy on Train 99.55 and Valid 67.88'"
      ]
     },
     "execution_count": 161,
     "metadata": {},
     "output_type": "execute_result"
    }
   ],
   "source": [
    "#clf = RidgeClassifier(lamdb=2.67e-07, sigma=6.08)\n",
    "clf = RidgeClassifier(lamdb=3.36e-03, sigma=7.44)#== 67.88\n",
    "#clf = RidgeClassifier(lamdb=3.25e-09, sigma=6.08) ==67.58\n",
    "#clf = RidgeClassifier(lamdb=1.01e-06, sigma=5.24) == 66.67\n",
    "#clf = RidgeClassifier(lamdb=1.9e-08, sigma=5.3) ==66.79\n",
    "\n",
    "clf.fit(X_train, y_train)\n",
    "\n",
    "acc_train = clf.score(X_train, y_train)\n",
    "acc_val   = clf.score(X_val,   y_val)\n",
    "\n",
    "f'Accuracy on Train {100*acc_train:.2f} and Valid {100*acc_val:.2f}'"
   ]
  },
  {
   "cell_type": "code",
   "execution_count": 118,
   "metadata": {},
   "outputs": [
    {
     "data": {
      "text/plain": [
       "(1000, 16384)"
      ]
     },
     "execution_count": 118,
     "metadata": {},
     "output_type": "execute_result"
    }
   ],
   "source": [
    "X_test_encode = bags_of_word_transform(Xte.seq, word_len=7)\n",
    "X_test_encode.shape"
   ]
  },
  {
   "cell_type": "code",
   "execution_count": 119,
   "metadata": {},
   "outputs": [
    {
     "data": {
      "text/html": [
       "<div>\n",
       "<style scoped>\n",
       "    .dataframe tbody tr th:only-of-type {\n",
       "        vertical-align: middle;\n",
       "    }\n",
       "\n",
       "    .dataframe tbody tr th {\n",
       "        vertical-align: top;\n",
       "    }\n",
       "\n",
       "    .dataframe thead th {\n",
       "        text-align: right;\n",
       "    }\n",
       "</style>\n",
       "<table border=\"1\" class=\"dataframe\">\n",
       "  <thead>\n",
       "    <tr style=\"text-align: right;\">\n",
       "      <th></th>\n",
       "      <th>Bound</th>\n",
       "    </tr>\n",
       "    <tr>\n",
       "      <th>Id</th>\n",
       "      <th></th>\n",
       "    </tr>\n",
       "  </thead>\n",
       "  <tbody>\n",
       "    <tr>\n",
       "      <th>0</th>\n",
       "      <td>1</td>\n",
       "    </tr>\n",
       "    <tr>\n",
       "      <th>1</th>\n",
       "      <td>1</td>\n",
       "    </tr>\n",
       "    <tr>\n",
       "      <th>2</th>\n",
       "      <td>0</td>\n",
       "    </tr>\n",
       "    <tr>\n",
       "      <th>3</th>\n",
       "      <td>0</td>\n",
       "    </tr>\n",
       "    <tr>\n",
       "      <th>4</th>\n",
       "      <td>1</td>\n",
       "    </tr>\n",
       "  </tbody>\n",
       "</table>\n",
       "</div>"
      ],
      "text/plain": [
       "    Bound\n",
       "Id       \n",
       "0       1\n",
       "1       1\n",
       "2       0\n",
       "3       0\n",
       "4       1"
      ]
     },
     "execution_count": 119,
     "metadata": {},
     "output_type": "execute_result"
    }
   ],
   "source": [
    "# pred = clf.predict(Xte_mat100.values)\n",
    "pred = clf.predict(X_test_encode)\n",
    "pred[ pred == -1] = 0\n",
    "pred = pred.astype(int)\n",
    "\n",
    "\n",
    "submission = pd.DataFrame({'Bound': pred})\n",
    "submission.index.name = 'Id'\n",
    "\n",
    "submission.head()"
   ]
  },
  {
   "cell_type": "code",
   "execution_count": null,
   "metadata": {},
   "outputs": [],
   "source": []
  },
  {
   "cell_type": "code",
   "execution_count": 120,
   "metadata": {},
   "outputs": [],
   "source": [
    "submission.to_csv('pp_bow1.csv')"
   ]
  },
  {
   "cell_type": "code",
   "execution_count": 121,
   "metadata": {},
   "outputs": [
    {
     "data": {
      "text/plain": [
       "(1000, 2)"
      ]
     },
     "execution_count": 121,
     "metadata": {},
     "output_type": "execute_result"
    }
   ],
   "source": [
    "df = pd.read_csv('pp_bow1.csvv')\n",
    "df.shape"
   ]
  },
  {
   "cell_type": "code",
   "execution_count": null,
   "metadata": {},
   "outputs": [],
   "source": []
  },
  {
   "cell_type": "code",
   "execution_count": null,
   "metadata": {},
   "outputs": [],
   "source": []
  }
 ],
 "metadata": {
  "kernelspec": {
   "display_name": "Python 3",
   "language": "python",
   "name": "python3"
  },
  "language_info": {
   "codemirror_mode": {
    "name": "ipython",
    "version": 3
   },
   "file_extension": ".py",
   "mimetype": "text/x-python",
   "name": "python",
   "nbconvert_exporter": "python",
   "pygments_lexer": "ipython3",
   "version": "3.7.4"
  }
 },
 "nbformat": 4,
 "nbformat_minor": 4
}
