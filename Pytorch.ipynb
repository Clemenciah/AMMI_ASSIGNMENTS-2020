{
  "nbformat": 4,
  "nbformat_minor": 0,
  "metadata": {
    "kernelspec": {
      "name": "python3",
      "display_name": "Python 3"
    },
    "language_info": {
      "codemirror_mode": {
        "name": "ipython",
        "version": 3
      },
      "file_extension": ".py",
      "mimetype": "text/x-python",
      "name": "python",
      "nbconvert_exporter": "python",
      "pygments_lexer": "ipython3",
      "version": "3.7.3"
    },
    "colab": {
      "name": "Pytorch.ipynb",
      "provenance": [],
      "include_colab_link": true
    },
    "accelerator": "GPU"
  },
  "cells": [
    {
      "cell_type": "markdown",
      "metadata": {
        "id": "view-in-github",
        "colab_type": "text"
      },
      "source": [
        "<a href=\"https://colab.research.google.com/github/Clemenciah/Personal-Learning/blob/master/Pytorch.ipynb\" target=\"_parent\"><img src=\"https://colab.research.google.com/assets/colab-badge.svg\" alt=\"Open In Colab\"/></a>"
      ]
    },
    {
      "cell_type": "markdown",
      "metadata": {
        "id": "AVOaWY3LzaYL",
        "colab_type": "text"
      },
      "source": [
        "## Pytorch"
      ]
    },
    {
      "cell_type": "code",
      "metadata": {
        "id": "W_YLPD1QzaYQ",
        "colab_type": "code",
        "colab": {}
      },
      "source": [
        "import numpy as np\n",
        "import torch\n",
        "from torch import nn\n",
        "from __future__ import print_function"
      ],
      "execution_count": 0,
      "outputs": []
    },
    {
      "cell_type": "code",
      "metadata": {
        "id": "kbvkZNNYzaYW",
        "colab_type": "code",
        "colab": {
          "base_uri": "https://localhost:8080/",
          "height": 108
        },
        "outputId": "a2e385b7-a2e0-4ed1-a227-e31d9739cf08"
      },
      "source": [
        "# create  5 * 3 empty matrix\n",
        "x = torch.empty(5,3)\n",
        "x"
      ],
      "execution_count": 3,
      "outputs": [
        {
          "output_type": "execute_result",
          "data": {
            "text/plain": [
              "tensor([[9.4973e-36, 0.0000e+00, 0.0000e+00],\n",
              "        [0.0000e+00, 0.0000e+00, 0.0000e+00],\n",
              "        [0.0000e+00, 0.0000e+00, 2.8026e-45],\n",
              "        [0.0000e+00, 1.1210e-44, 0.0000e+00],\n",
              "        [1.4013e-45, 0.0000e+00, 0.0000e+00]])"
            ]
          },
          "metadata": {
            "tags": []
          },
          "execution_count": 3
        }
      ]
    },
    {
      "cell_type": "code",
      "metadata": {
        "id": "8TgRiBBFzaYa",
        "colab_type": "code",
        "colab": {
          "base_uri": "https://localhost:8080/",
          "height": 108
        },
        "outputId": "da8fd991-442c-4823-efcc-5a3bf421fbab"
      },
      "source": [
        "# create  5 * 3 random matrix\n",
        "x = torch.randn(5,3)\n",
        "x"
      ],
      "execution_count": 4,
      "outputs": [
        {
          "output_type": "execute_result",
          "data": {
            "text/plain": [
              "tensor([[ 0.0412, -0.0431,  0.5416],\n",
              "        [-0.2365,  0.5526,  0.7068],\n",
              "        [-1.9469,  0.1066, -0.0114],\n",
              "        [ 0.3205,  1.0351, -0.3913],\n",
              "        [-0.2984, -0.3227, -1.9392]])"
            ]
          },
          "metadata": {
            "tags": []
          },
          "execution_count": 4
        }
      ]
    },
    {
      "cell_type": "code",
      "metadata": {
        "id": "aCMlf5x6zaYd",
        "colab_type": "code",
        "colab": {
          "base_uri": "https://localhost:8080/",
          "height": 108
        },
        "outputId": "85bd6e74-6064-4dbc-e8f9-451429fadf40"
      },
      "source": [
        "x = torch.zeros(5,3, dtype = torch.long)\n",
        "x"
      ],
      "execution_count": 5,
      "outputs": [
        {
          "output_type": "execute_result",
          "data": {
            "text/plain": [
              "tensor([[0, 0, 0],\n",
              "        [0, 0, 0],\n",
              "        [0, 0, 0],\n",
              "        [0, 0, 0],\n",
              "        [0, 0, 0]])"
            ]
          },
          "metadata": {
            "tags": []
          },
          "execution_count": 5
        }
      ]
    },
    {
      "cell_type": "code",
      "metadata": {
        "id": "qmFGvmfPzaYg",
        "colab_type": "code",
        "colab": {
          "base_uri": "https://localhost:8080/",
          "height": 35
        },
        "outputId": "21668f9e-c4c7-4abd-ec7b-3f57ab9d2bfc"
      },
      "source": [
        "#Tensor is an imperative n-dimensional array running on GPU\n",
        "x = torch.tensor([5.5,3])\n",
        "x"
      ],
      "execution_count": 6,
      "outputs": [
        {
          "output_type": "execute_result",
          "data": {
            "text/plain": [
              "tensor([5.5000, 3.0000])"
            ]
          },
          "metadata": {
            "tags": []
          },
          "execution_count": 6
        }
      ]
    },
    {
      "cell_type": "code",
      "metadata": {
        "id": "xejm-CxrzaYi",
        "colab_type": "code",
        "colab": {
          "base_uri": "https://localhost:8080/",
          "height": 35
        },
        "outputId": "8abc363a-5d7b-4cfe-ffef-dc6e39f48d94"
      },
      "source": [
        "a = torch.ones(5)\n",
        "a"
      ],
      "execution_count": 7,
      "outputs": [
        {
          "output_type": "execute_result",
          "data": {
            "text/plain": [
              "tensor([1., 1., 1., 1., 1.])"
            ]
          },
          "metadata": {
            "tags": []
          },
          "execution_count": 7
        }
      ]
    },
    {
      "cell_type": "code",
      "metadata": {
        "id": "54CvQtw1zaYl",
        "colab_type": "code",
        "colab": {
          "base_uri": "https://localhost:8080/",
          "height": 35
        },
        "outputId": "9bedcc2d-4b76-4787-97bd-427b55140f90"
      },
      "source": [
        "b = a.numpy()\n",
        "b"
      ],
      "execution_count": 8,
      "outputs": [
        {
          "output_type": "execute_result",
          "data": {
            "text/plain": [
              "array([1., 1., 1., 1., 1.], dtype=float32)"
            ]
          },
          "metadata": {
            "tags": []
          },
          "execution_count": 8
        }
      ]
    },
    {
      "cell_type": "code",
      "metadata": {
        "id": "m-gWkgnSzaYn",
        "colab_type": "code",
        "colab": {
          "base_uri": "https://localhost:8080/",
          "height": 35
        },
        "outputId": "dd02f473-8448-4689-eb0f-b010a64965cd"
      },
      "source": [
        "a.add_(1)"
      ],
      "execution_count": 9,
      "outputs": [
        {
          "output_type": "execute_result",
          "data": {
            "text/plain": [
              "tensor([2., 2., 2., 2., 2.])"
            ]
          },
          "metadata": {
            "tags": []
          },
          "execution_count": 9
        }
      ]
    },
    {
      "cell_type": "code",
      "metadata": {
        "id": "Z8swqdGDzaYq",
        "colab_type": "code",
        "colab": {
          "base_uri": "https://localhost:8080/",
          "height": 35
        },
        "outputId": "72e31523-0097-4dd2-9e4e-017e0a292679"
      },
      "source": [
        "b"
      ],
      "execution_count": 10,
      "outputs": [
        {
          "output_type": "execute_result",
          "data": {
            "text/plain": [
              "array([2., 2., 2., 2., 2.], dtype=float32)"
            ]
          },
          "metadata": {
            "tags": []
          },
          "execution_count": 10
        }
      ]
    },
    {
      "cell_type": "code",
      "metadata": {
        "id": "EWRv7_TGzaYu",
        "colab_type": "code",
        "colab": {
          "base_uri": "https://localhost:8080/",
          "height": 35
        },
        "outputId": "4b313a38-902c-49aa-cf0a-019cde2aa357"
      },
      "source": [
        "#converting numpy arrays to torch tensors\n",
        "a = np.ones(5)\n",
        "a"
      ],
      "execution_count": 11,
      "outputs": [
        {
          "output_type": "execute_result",
          "data": {
            "text/plain": [
              "array([1., 1., 1., 1., 1.])"
            ]
          },
          "metadata": {
            "tags": []
          },
          "execution_count": 11
        }
      ]
    },
    {
      "cell_type": "code",
      "metadata": {
        "id": "bLy9b8G9zaYw",
        "colab_type": "code",
        "colab": {
          "base_uri": "https://localhost:8080/",
          "height": 35
        },
        "outputId": "59802b4b-8a67-4a1e-be35-d191bd311f34"
      },
      "source": [
        "b = torch.from_numpy(a)\n",
        "b"
      ],
      "execution_count": 12,
      "outputs": [
        {
          "output_type": "execute_result",
          "data": {
            "text/plain": [
              "tensor([1., 1., 1., 1., 1.], dtype=torch.float64)"
            ]
          },
          "metadata": {
            "tags": []
          },
          "execution_count": 12
        }
      ]
    },
    {
      "cell_type": "code",
      "metadata": {
        "id": "Bei1XibpzaYz",
        "colab_type": "code",
        "colab": {
          "base_uri": "https://localhost:8080/",
          "height": 35
        },
        "outputId": "7ef3bb59-31b4-4156-f3c4-e7b20bb9d438"
      },
      "source": [
        "np.add(a, 1, out = a)\n",
        "a"
      ],
      "execution_count": 13,
      "outputs": [
        {
          "output_type": "execute_result",
          "data": {
            "text/plain": [
              "array([2., 2., 2., 2., 2.])"
            ]
          },
          "metadata": {
            "tags": []
          },
          "execution_count": 13
        }
      ]
    },
    {
      "cell_type": "code",
      "metadata": {
        "id": "6wRyuuI3zaY1",
        "colab_type": "code",
        "colab": {
          "base_uri": "https://localhost:8080/",
          "height": 35
        },
        "outputId": "a1d4e8f4-1b04-4eae-8e0e-53fdd83e6059"
      },
      "source": [
        "b"
      ],
      "execution_count": 14,
      "outputs": [
        {
          "output_type": "execute_result",
          "data": {
            "text/plain": [
              "tensor([2., 2., 2., 2., 2.], dtype=torch.float64)"
            ]
          },
          "metadata": {
            "tags": []
          },
          "execution_count": 14
        }
      ]
    },
    {
      "cell_type": "code",
      "metadata": {
        "id": "8kUYZiBRzaY3",
        "colab_type": "code",
        "colab": {
          "base_uri": "https://localhost:8080/",
          "height": 254
        },
        "outputId": "5758a959-a580-46b5-a013-abdbeaeb2cfb"
      },
      "source": [
        "# Compute matrix multiplication C = AB\n",
        "d = 3000\n",
        "# using numpy\n",
        "A = np.random.randn(d, d).astype(np.float32)\n",
        "B = np.random.randn(d, d).astype(np.float32)\n",
        "c = A.dot(B)\n",
        "c"
      ],
      "execution_count": 15,
      "outputs": [
        {
          "output_type": "execute_result",
          "data": {
            "text/plain": [
              "array([[  44.41128  ,  -15.484935 ,  -21.038933 , ...,  -28.879026 ,\n",
              "          27.498589 ,   -2.9646482],\n",
              "       [   7.5640125,   10.702361 , -102.94628  , ...,    9.3279705,\n",
              "         -11.396199 ,  -35.926243 ],\n",
              "       [  33.629967 ,  -81.91637  ,  -77.563095 , ...,  -90.622345 ,\n",
              "         -57.79128  ,   46.459557 ],\n",
              "       ...,\n",
              "       [  44.06266  ,   -3.8728828,   32.42855  , ...,    6.3762465,\n",
              "          41.869957 ,   35.311806 ],\n",
              "       [ -70.32914  ,   34.725853 ,   42.28804  , ...,  -16.355286 ,\n",
              "        -134.97171  ,   97.17351  ],\n",
              "       [ -34.86456  ,   73.53852  ,  -21.787199 , ...,   25.82336  ,\n",
              "          46.956924 ,   10.320938 ]], dtype=float32)"
            ]
          },
          "metadata": {
            "tags": []
          },
          "execution_count": 15
        }
      ]
    },
    {
      "cell_type": "code",
      "metadata": {
        "id": "DJGuVH41zaY6",
        "colab_type": "code",
        "colab": {
          "base_uri": "https://localhost:8080/",
          "height": 163
        },
        "outputId": "63569b9c-beba-4722-ae82-d03e828f949e"
      },
      "source": [
        "#using torch with gpu\n",
        "A= torch.rand(d,d).cuda()\n",
        "B = torch.rand(d,d).cuda()\n",
        "c = torch.mm(A,B)\n",
        "c"
      ],
      "execution_count": 17,
      "outputs": [
        {
          "output_type": "execute_result",
          "data": {
            "text/plain": [
              "tensor([[746.7884, 741.0547, 754.9748,  ..., 751.8769, 769.1043, 755.5163],\n",
              "        [745.6445, 729.9719, 749.0021,  ..., 745.7773, 748.4438, 749.5287],\n",
              "        [730.3515, 743.4229, 745.7306,  ..., 757.9393, 752.5419, 748.8590],\n",
              "        ...,\n",
              "        [746.2464, 745.4296, 746.0706,  ..., 747.2460, 751.7227, 754.0021],\n",
              "        [725.6313, 720.1584, 741.6111,  ..., 737.2307, 753.4833, 735.9728],\n",
              "        [734.8519, 727.7873, 733.7099,  ..., 739.3416, 752.2516, 738.4394]],\n",
              "       device='cuda:0')"
            ]
          },
          "metadata": {
            "tags": []
          },
          "execution_count": 17
        }
      ]
    },
    {
      "cell_type": "markdown",
      "metadata": {
        "id": "8DTlDL6-zaY8",
        "colab_type": "text"
      },
      "source": [
        "##### Autograd module does automatic differentiation\n",
        "### Creating a neural network\n",
        "start---Neural Network---torch.nn package---Autograd\n",
        "|nn.module ---methods and layers. Under methods we have forward(input) ----returns output"
      ]
    },
    {
      "cell_type": "markdown",
      "metadata": {
        "id": "9yopco_ezaY9",
        "colab_type": "text"
      },
      "source": [
        "# Training algorithm\n",
        "#### inputs--Calculate loss -- Back propagation -- Update parameters\n",
        "output_batch = model(train_batch) # Compute model output\n",
        "loss = loss_fn(output_batch, labels_batch) #Calculate loss\n",
        "optimizer.zero_grad() #Clear previous gradients\n",
        "loss.backward() #Compute gradients of all variables wrt loss\n",
        "optimizer.step() #Perform updates using calculated gradients\n",
        "### Training procedure for a neural network\n",
        "Define the neural network -- iterate over Dataset --Process the input --Compute the loss -- Propagate gradients back#so as to reduce the loss as we go along --Update the weights using SGD # weight = weight -learning_rate * gradient"
      ]
    },
    {
      "cell_type": "code",
      "metadata": {
        "id": "ruzyGjKkzaY-",
        "colab_type": "code",
        "colab": {
          "base_uri": "https://localhost:8080/",
          "height": 145
        },
        "outputId": "c0beae4c-c1a4-45db-f461-050db87d4fcc"
      },
      "source": [
        "# Defining the architecture of the network\n",
        "import torch.nn.functional as F\n",
        "\n",
        "class Net(nn.Module):\n",
        "    \n",
        "    def __init__(self):\n",
        "        super(Net, self).__init__()\n",
        "        \n",
        "        # 1 input imagechannel, 6 output channels, 5*5 square convolution kernel\n",
        "        self.conv1 = nn.Conv2d(1,6,5)\n",
        "        self.conv2 = nn.Conv2d(6,16,5)\n",
        "        # an affine operation: y = wx + b\n",
        "        self.fc1 = nn.Linear(16 * 5 * 5, 120)\n",
        "        self.fc2 = nn.Linear(120, 84)\n",
        "        self.fc3 = nn.Linear(84, 10)\n",
        "        \n",
        "        \n",
        "    def forward(self,x):\n",
        "        x = F.max_pool2d(F.relu(self.conv1(x)),2)\n",
        "        x = x.view(-1, self.num_flat_features(x))\n",
        "        x = F.relu(self.fc1(x))\n",
        "        x = F.relu(self.fc2(x))\n",
        "        x = self.fc3(x)\n",
        "        return x\n",
        "    \n",
        "    def num_flat_features(self,x):\n",
        "        size = x.size()[1:] #all dimension except the batch dimension\n",
        "        num_features = 1\n",
        "        for s in size:\n",
        "            num_features *= s\n",
        "        return num_features\n",
        "    \n",
        "net = Net()\n",
        "print(net)\n",
        "        \n"
      ],
      "execution_count": 18,
      "outputs": [
        {
          "output_type": "stream",
          "text": [
            "Net(\n",
            "  (conv1): Conv2d(1, 6, kernel_size=(5, 5), stride=(1, 1))\n",
            "  (conv2): Conv2d(6, 16, kernel_size=(5, 5), stride=(1, 1))\n",
            "  (fc1): Linear(in_features=400, out_features=120, bias=True)\n",
            "  (fc2): Linear(in_features=120, out_features=84, bias=True)\n",
            "  (fc3): Linear(in_features=84, out_features=10, bias=True)\n",
            ")\n"
          ],
          "name": "stdout"
        }
      ]
    },
    {
      "cell_type": "code",
      "metadata": {
        "id": "5atp0zmCzaZB",
        "colab_type": "code",
        "colab": {
          "base_uri": "https://localhost:8080/",
          "height": 35
        },
        "outputId": "401e3da6-74c7-4eb5-8470-32a1496dee9f"
      },
      "source": [
        "# The learnable parameters of a model are returned by 'net.parameters'\n",
        "params = list(net.parameters())\n",
        "len(params), params[0].size()"
      ],
      "execution_count": 19,
      "outputs": [
        {
          "output_type": "execute_result",
          "data": {
            "text/plain": [
              "(10, torch.Size([6, 1, 5, 5]))"
            ]
          },
          "metadata": {
            "tags": []
          },
          "execution_count": 19
        }
      ]
    },
    {
      "cell_type": "code",
      "metadata": {
        "id": "AkLQqtrDzaZE",
        "colab_type": "code",
        "colab": {}
      },
      "source": [
        ""
      ],
      "execution_count": 0,
      "outputs": []
    },
    {
      "cell_type": "code",
      "metadata": {
        "id": "EV25jPwfzaZG",
        "colab_type": "code",
        "colab": {}
      },
      "source": [
        ""
      ],
      "execution_count": 0,
      "outputs": []
    }
  ]
}